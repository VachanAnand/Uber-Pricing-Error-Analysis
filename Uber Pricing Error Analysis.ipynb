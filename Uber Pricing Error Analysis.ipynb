{
 "cells": [
  {
   "cell_type": "markdown",
   "metadata": {},
   "source": [
    "# Data Analysis Uber Pricing\n",
    "\n",
    "Date: 24/05/2019\n",
    "\n",
    "\n",
    "Environment: Python 3.6.5 and Anaconda Navigator 1.8.7\n",
    "\n",
    "\n",
    "\n",
    "Libraries used:\n",
    "* matplotlib.pyplot (for data exploration, included in Anaconda Python 3.6)\n",
    "* pandas 0.19.2 (for data frame, included in Anaconda Python 3.6) \n",
    "* seaborn (for data exploration) \n",
    "* networkx (to calculate shortest distance in a network graph )\n",
    "* datetime (to check for correct dates and days)\n",
    "* numpy (for mathematical calculations)\n",
    "* statsmodels.api (for multivariate regression)\n",
    "* sklearn.ensemble (for classification using random forest)\n",
    "\n",
    "\n",
    "\n",
    "## 1. Introduction\n",
    "This notebook comprises cleaning the data for text analysis. Data cleaning is one of the most important and time consuming task that determines the quality of analysis in any process. The task helps us understand the three most common types of errors and tries to clean the data from those errors. The help us understand : \n",
    "\n",
    "1. Syntactical Anomalies: Errors that are genrally due to format and values of the data\n",
    "2. Semantic Anomalies: Errors that are genrally due to comprehensiveness and non-redundancy in the data\n",
    "3. Coverage Anomalies: Missing values in the data\n",
    "\n",
    "More details for each task will be given in the following sections."
   ]
  },
  {
   "cell_type": "markdown",
   "metadata": {},
   "source": [
    "## 1. Importing Libraries"
   ]
  },
  {
   "cell_type": "code",
   "execution_count": 1,
   "metadata": {},
   "outputs": [],
   "source": [
    "import matplotlib.pyplot as plt\n",
    "import seaborn as sns; sns.set()\n",
    "import networkx as nx\n",
    "import datetime\n",
    "import numpy as np\n",
    "import pandas as pd\n",
    "import statsmodels.api as sm\n",
    "from sklearn.ensemble import RandomForestClassifier"
   ]
  },
  {
   "cell_type": "markdown",
   "metadata": {},
   "source": [
    "## 2. Loading the Dirty Data\n",
    "The data used for this task is stored in 3 separate files. The data in `dirty_data`  contains dirty data that needs to be cleaned with the help of `edges` and `nodes` file."
   ]
  },
  {
   "cell_type": "code",
   "execution_count": 2,
   "metadata": {},
   "outputs": [],
   "source": [
    "\n",
    "\n",
    "uber_df = pd.read_csv(\"dirty_data.csv\") \n",
    "edges_df = pd.read_csv(\"edges.csv\")\n",
    "nodes_df = pd.read_csv(\"nodes.csv\")\n",
    "flag = 0\n"
   ]
  },
  {
   "cell_type": "markdown",
   "metadata": {},
   "source": [
    "## Exploratory Data Analysis"
   ]
  },
  {
   "cell_type": "code",
   "execution_count": 3,
   "metadata": {},
   "outputs": [
    {
     "data": {
      "text/html": [
       "<div>\n",
       "<style scoped>\n",
       "    .dataframe tbody tr th:only-of-type {\n",
       "        vertical-align: middle;\n",
       "    }\n",
       "\n",
       "    .dataframe tbody tr th {\n",
       "        vertical-align: top;\n",
       "    }\n",
       "\n",
       "    .dataframe thead th {\n",
       "        text-align: right;\n",
       "    }\n",
       "</style>\n",
       "<table border=\"1\" class=\"dataframe\">\n",
       "  <thead>\n",
       "    <tr style=\"text-align: right;\">\n",
       "      <th></th>\n",
       "      <th>Unnamed: 0</th>\n",
       "      <th>u</th>\n",
       "      <th>v</th>\n",
       "      <th>distance(m)</th>\n",
       "      <th>street type</th>\n",
       "      <th>speed(km/h)</th>\n",
       "    </tr>\n",
       "  </thead>\n",
       "  <tbody>\n",
       "    <tr>\n",
       "      <th>0</th>\n",
       "      <td>0</td>\n",
       "      <td>711327755</td>\n",
       "      <td>711332946</td>\n",
       "      <td>58.0</td>\n",
       "      <td>1</td>\n",
       "      <td>15.0</td>\n",
       "    </tr>\n",
       "    <tr>\n",
       "      <th>1</th>\n",
       "      <td>2</td>\n",
       "      <td>711327755</td>\n",
       "      <td>55725841</td>\n",
       "      <td>15.0</td>\n",
       "      <td>2</td>\n",
       "      <td>20.0</td>\n",
       "    </tr>\n",
       "    <tr>\n",
       "      <th>2</th>\n",
       "      <td>3</td>\n",
       "      <td>711327755</td>\n",
       "      <td>711327760</td>\n",
       "      <td>165.0</td>\n",
       "      <td>1</td>\n",
       "      <td>15.0</td>\n",
       "    </tr>\n",
       "    <tr>\n",
       "      <th>3</th>\n",
       "      <td>4</td>\n",
       "      <td>711327756</td>\n",
       "      <td>703557073</td>\n",
       "      <td>4.0</td>\n",
       "      <td>0</td>\n",
       "      <td>10.0</td>\n",
       "    </tr>\n",
       "    <tr>\n",
       "      <th>4</th>\n",
       "      <td>5</td>\n",
       "      <td>711327756</td>\n",
       "      <td>711332946</td>\n",
       "      <td>8.0</td>\n",
       "      <td>1</td>\n",
       "      <td>15.0</td>\n",
       "    </tr>\n",
       "  </tbody>\n",
       "</table>\n",
       "</div>"
      ],
      "text/plain": [
       "   Unnamed: 0          u          v  distance(m)  street type  speed(km/h)\n",
       "0           0  711327755  711332946         58.0            1         15.0\n",
       "1           2  711327755   55725841         15.0            2         20.0\n",
       "2           3  711327755  711327760        165.0            1         15.0\n",
       "3           4  711327756  703557073          4.0            0         10.0\n",
       "4           5  711327756  711332946          8.0            1         15.0"
      ]
     },
     "execution_count": 3,
     "metadata": {},
     "output_type": "execute_result"
    }
   ],
   "source": [
    "edges_df.head(5)"
   ]
  },
  {
   "cell_type": "code",
   "execution_count": 4,
   "metadata": {},
   "outputs": [
    {
     "name": "stdout",
     "output_type": "stream",
     "text": [
      "<class 'pandas.core.frame.DataFrame'>\n",
      "RangeIndex: 286 entries, 0 to 285\n",
      "Data columns (total 14 columns):\n",
      " #   Column                 Non-Null Count  Dtype  \n",
      "---  ------                 --------------  -----  \n",
      " 0   Unnamed: 0             286 non-null    object \n",
      " 1   Uber Type              286 non-null    int64  \n",
      " 2   Origin Region          286 non-null    int64  \n",
      " 3   Destination Region     286 non-null    int64  \n",
      " 4   Origin Latitude        286 non-null    float64\n",
      " 5   Origin Longitude       286 non-null    float64\n",
      " 6   Destination Latitude   286 non-null    float64\n",
      " 7   Destination Longitude  286 non-null    float64\n",
      " 8   Journey Distance(m)    286 non-null    float64\n",
      " 9   Departure Date         286 non-null    object \n",
      " 10  Departure Time         286 non-null    object \n",
      " 11  Travel Time(s)         286 non-null    float64\n",
      " 12  Arrival Time           286 non-null    object \n",
      " 13  Fare$                  286 non-null    float64\n",
      "dtypes: float64(7), int64(3), object(4)\n",
      "memory usage: 31.4+ KB\n"
     ]
    }
   ],
   "source": [
    "uber_df.info()"
   ]
  },
  {
   "cell_type": "code",
   "execution_count": 5,
   "metadata": {},
   "outputs": [
    {
     "data": {
      "text/html": [
       "<div>\n",
       "<style scoped>\n",
       "    .dataframe tbody tr th:only-of-type {\n",
       "        vertical-align: middle;\n",
       "    }\n",
       "\n",
       "    .dataframe tbody tr th {\n",
       "        vertical-align: top;\n",
       "    }\n",
       "\n",
       "    .dataframe thead th {\n",
       "        text-align: right;\n",
       "    }\n",
       "</style>\n",
       "<table border=\"1\" class=\"dataframe\">\n",
       "  <thead>\n",
       "    <tr style=\"text-align: right;\">\n",
       "      <th></th>\n",
       "      <th>Uber Type</th>\n",
       "      <th>Origin Region</th>\n",
       "      <th>Destination Region</th>\n",
       "      <th>Origin Latitude</th>\n",
       "      <th>Origin Longitude</th>\n",
       "      <th>Destination Latitude</th>\n",
       "      <th>Destination Longitude</th>\n",
       "      <th>Journey Distance(m)</th>\n",
       "      <th>Travel Time(s)</th>\n",
       "      <th>Fare$</th>\n",
       "    </tr>\n",
       "  </thead>\n",
       "  <tbody>\n",
       "    <tr>\n",
       "      <th>count</th>\n",
       "      <td>286.000000</td>\n",
       "      <td>286.000000</td>\n",
       "      <td>286.000000</td>\n",
       "      <td>286.000000</td>\n",
       "      <td>286.000000</td>\n",
       "      <td>286.000000</td>\n",
       "      <td>286.000000</td>\n",
       "      <td>286.000000</td>\n",
       "      <td>286.000000</td>\n",
       "      <td>286.000000</td>\n",
       "    </tr>\n",
       "    <tr>\n",
       "      <th>mean</th>\n",
       "      <td>0.779720</td>\n",
       "      <td>5.202797</td>\n",
       "      <td>4.884615</td>\n",
       "      <td>-36.524179</td>\n",
       "      <td>144.935533</td>\n",
       "      <td>-36.517425</td>\n",
       "      <td>144.943081</td>\n",
       "      <td>15095.083566</td>\n",
       "      <td>3973.013217</td>\n",
       "      <td>76.804580</td>\n",
       "    </tr>\n",
       "    <tr>\n",
       "      <th>std</th>\n",
       "      <td>0.751892</td>\n",
       "      <td>2.517474</td>\n",
       "      <td>2.551362</td>\n",
       "      <td>9.933529</td>\n",
       "      <td>0.103172</td>\n",
       "      <td>9.940136</td>\n",
       "      <td>0.099566</td>\n",
       "      <td>16014.661303</td>\n",
       "      <td>3895.919134</td>\n",
       "      <td>191.926104</td>\n",
       "    </tr>\n",
       "    <tr>\n",
       "      <th>min</th>\n",
       "      <td>0.000000</td>\n",
       "      <td>1.000000</td>\n",
       "      <td>1.000000</td>\n",
       "      <td>-38.110916</td>\n",
       "      <td>144.654173</td>\n",
       "      <td>-38.110916</td>\n",
       "      <td>144.654173</td>\n",
       "      <td>951.000000</td>\n",
       "      <td>217.140000</td>\n",
       "      <td>3.550000</td>\n",
       "    </tr>\n",
       "    <tr>\n",
       "      <th>25%</th>\n",
       "      <td>0.000000</td>\n",
       "      <td>3.000000</td>\n",
       "      <td>3.000000</td>\n",
       "      <td>-37.825318</td>\n",
       "      <td>144.927095</td>\n",
       "      <td>-37.822154</td>\n",
       "      <td>144.931905</td>\n",
       "      <td>5350.500000</td>\n",
       "      <td>1362.060000</td>\n",
       "      <td>11.150000</td>\n",
       "    </tr>\n",
       "    <tr>\n",
       "      <th>50%</th>\n",
       "      <td>1.000000</td>\n",
       "      <td>5.000000</td>\n",
       "      <td>5.000000</td>\n",
       "      <td>-37.815834</td>\n",
       "      <td>144.952894</td>\n",
       "      <td>-37.814889</td>\n",
       "      <td>144.966754</td>\n",
       "      <td>8791.000000</td>\n",
       "      <td>2437.800000</td>\n",
       "      <td>17.575000</td>\n",
       "    </tr>\n",
       "    <tr>\n",
       "      <th>75%</th>\n",
       "      <td>1.000000</td>\n",
       "      <td>7.000000</td>\n",
       "      <td>7.000000</td>\n",
       "      <td>-37.805933</td>\n",
       "      <td>144.988962</td>\n",
       "      <td>-37.805852</td>\n",
       "      <td>144.996657</td>\n",
       "      <td>12128.750000</td>\n",
       "      <td>3893.085000</td>\n",
       "      <td>29.495000</td>\n",
       "    </tr>\n",
       "    <tr>\n",
       "      <th>max</th>\n",
       "      <td>3.000000</td>\n",
       "      <td>9.000000</td>\n",
       "      <td>9.000000</td>\n",
       "      <td>37.861835</td>\n",
       "      <td>145.046450</td>\n",
       "      <td>38.110916</td>\n",
       "      <td>145.046450</td>\n",
       "      <td>51061.000000</td>\n",
       "      <td>13204.980000</td>\n",
       "      <td>1098.060000</td>\n",
       "    </tr>\n",
       "  </tbody>\n",
       "</table>\n",
       "</div>"
      ],
      "text/plain": [
       "        Uber Type  Origin Region  Destination Region  Origin Latitude  \\\n",
       "count  286.000000     286.000000          286.000000       286.000000   \n",
       "mean     0.779720       5.202797            4.884615       -36.524179   \n",
       "std      0.751892       2.517474            2.551362         9.933529   \n",
       "min      0.000000       1.000000            1.000000       -38.110916   \n",
       "25%      0.000000       3.000000            3.000000       -37.825318   \n",
       "50%      1.000000       5.000000            5.000000       -37.815834   \n",
       "75%      1.000000       7.000000            7.000000       -37.805933   \n",
       "max      3.000000       9.000000            9.000000        37.861835   \n",
       "\n",
       "       Origin Longitude  Destination Latitude  Destination Longitude  \\\n",
       "count        286.000000            286.000000             286.000000   \n",
       "mean         144.935533            -36.517425             144.943081   \n",
       "std            0.103172              9.940136               0.099566   \n",
       "min          144.654173            -38.110916             144.654173   \n",
       "25%          144.927095            -37.822154             144.931905   \n",
       "50%          144.952894            -37.814889             144.966754   \n",
       "75%          144.988962            -37.805852             144.996657   \n",
       "max          145.046450             38.110916             145.046450   \n",
       "\n",
       "       Journey Distance(m)  Travel Time(s)        Fare$  \n",
       "count           286.000000      286.000000   286.000000  \n",
       "mean          15095.083566     3973.013217    76.804580  \n",
       "std           16014.661303     3895.919134   191.926104  \n",
       "min             951.000000      217.140000     3.550000  \n",
       "25%            5350.500000     1362.060000    11.150000  \n",
       "50%            8791.000000     2437.800000    17.575000  \n",
       "75%           12128.750000     3893.085000    29.495000  \n",
       "max           51061.000000    13204.980000  1098.060000  "
      ]
     },
     "execution_count": 5,
     "metadata": {},
     "output_type": "execute_result"
    }
   ],
   "source": [
    "uber_df.describe()"
   ]
  },
  {
   "cell_type": "markdown",
   "metadata": {},
   "source": [
    "Here viewing the description of the dataset in hand there are a few things that raise suspision \n",
    "* `Origin Latitude` : Max value is 37.86\n",
    "* `Destination Latitude` : Max value is 38.11\n",
    "Since the data is collected from `Victoria` itself, the latitude and longitude can not have a range as big as 60 degrees in terms or latitude. Therefore, it is definitely a type (Syntactical error)\n",
    "\n",
    "Secondly, the time travel and fare value seems to have strange behaviour in terms of max value such as :\n",
    "* The max `Time Travel` for some journey is 13204.98 seconds which is equal to 3.67 hours approx. Looking at the max `Journey Distance` travelled by any cab which is equal to 51 Km approx, it looks suspicious \n",
    "* Similary the `Fare` of 1098 dollars looks unreal for a `Ditance` of 51 km\n",
    "The error in Time and Fare suggest some `Semantic Error`\n"
   ]
  },
  {
   "cell_type": "markdown",
   "metadata": {},
   "source": [
    "## Preparing Data for further analysis\n",
    "\n",
    "The data is split into smaller frangment to check for any errors or outliers."
   ]
  },
  {
   "cell_type": "code",
   "execution_count": 6,
   "metadata": {},
   "outputs": [],
   "source": [
    "dates =uber_df[\"Departure Date\"].apply(lambda s:pd.Series({\"Year\":int(s.split(\"-\")[0].strip()),\"Month\":int(s.split(\"-\")[1].strip()),\"Day\":int(s.split(\"-\")[2].strip())}))\n",
    "departure_time = uber_df[\"Departure Time\"].apply(lambda s:pd.Series({\"Dep Hour\":int(s.split(\":\")[0].strip()),\"Dep Min\":int(s.split(\":\")[1].strip()),\"Dep Sec\":int(s.split(\":\")[2].strip())}))\n",
    "arrival_time = uber_df[\"Arrival Time\"].apply(lambda s:pd.Series({\"Arr Hour\":int(s.split(\":\")[0].strip()),\"Arr Min\":int(s.split(\":\")[1].strip()),\"Arr Sec\":int(s.split(\":\")[2].strip())}))\n",
    "uber_df = pd.concat([uber_df,dates,departure_time,arrival_time],axis=1)\n",
    "uber_df[\"Arr Time\"] = 0\n",
    "uber_df[\"Dep Time\"] = 0\n",
    "uber_df[\"Time Taken\"] = 0\n"
   ]
  },
  {
   "cell_type": "code",
   "execution_count": 7,
   "metadata": {},
   "outputs": [],
   "source": [
    "for each_row in range(0,len(uber_df)):\n",
    "    uber_df.at[each_row,\"Arr Time\"] = uber_df.loc[each_row][\"Arr Hour\"]*3600 + uber_df.loc[each_row][\"Arr Min\"]*60 + uber_df.loc[each_row][\"Arr Sec\"]\n",
    "    uber_df.at[each_row,\"Dep Time\"] = uber_df.loc[each_row][\"Dep Hour\"]*3600 + uber_df.loc[each_row][\"Dep Min\"]*60 + uber_df.loc[each_row][\"Dep Sec\"]\n"
   ]
  },
  {
   "cell_type": "code",
   "execution_count": 8,
   "metadata": {},
   "outputs": [
    {
     "data": {
      "text/plain": [
       "(array([281.,   0.,   0.,   0.,   0.,   0.,   0.,   0.,   0.,   5.]),\n",
       " array([-38.1109156 , -30.51364055, -22.9163655 , -15.31909045,\n",
       "         -7.7218154 ,  -0.12454035,   7.4727347 ,  15.07000975,\n",
       "         22.6672848 ,  30.26455985,  37.8618349 ]),\n",
       " <a list of 10 Patch objects>)"
      ]
     },
     "execution_count": 8,
     "metadata": {},
     "output_type": "execute_result"
    },
    {
     "data": {
      "image/png": "[encoded data removed]",
      "text/plain": [
       "<Figure size 432x288 with 1 Axes>"
      ]
     },
     "metadata": {},
     "output_type": "display_data"
    }
   ],
   "source": [
    "plt.hist(uber_df[\"Origin Latitude\"])"
   ]
  },
  {
   "cell_type": "markdown",
   "metadata": {},
   "source": [
    "Here we can see certain `outliers` in *Origin Latitudes*. The histogram helps us understand the spread really well. As the data us from Victoria the spread must not be high i.e. the range of values must be low which is not the case here. So definitely, there is an error. On closer inspection it is seen that it is a `Syntactical Anomaly`."
   ]
  },
  {
   "cell_type": "code",
   "execution_count": 9,
   "metadata": {},
   "outputs": [
    {
     "data": {
      "text/html": [
       "<div>\n",
       "<style scoped>\n",
       "    .dataframe tbody tr th:only-of-type {\n",
       "        vertical-align: middle;\n",
       "    }\n",
       "\n",
       "    .dataframe tbody tr th {\n",
       "        vertical-align: top;\n",
       "    }\n",
       "\n",
       "    .dataframe thead th {\n",
       "        text-align: right;\n",
       "    }\n",
       "</style>\n",
       "<table border=\"1\" class=\"dataframe\">\n",
       "  <thead>\n",
       "    <tr style=\"text-align: right;\">\n",
       "      <th></th>\n",
       "      <th>Unnamed: 0</th>\n",
       "      <th>Uber Type</th>\n",
       "      <th>Origin Region</th>\n",
       "      <th>Destination Region</th>\n",
       "      <th>Origin Latitude</th>\n",
       "      <th>Origin Longitude</th>\n",
       "      <th>Destination Latitude</th>\n",
       "      <th>Destination Longitude</th>\n",
       "      <th>Journey Distance(m)</th>\n",
       "      <th>Departure Date</th>\n",
       "      <th>...</th>\n",
       "      <th>Day</th>\n",
       "      <th>Dep Hour</th>\n",
       "      <th>Dep Min</th>\n",
       "      <th>Dep Sec</th>\n",
       "      <th>Arr Hour</th>\n",
       "      <th>Arr Min</th>\n",
       "      <th>Arr Sec</th>\n",
       "      <th>Arr Time</th>\n",
       "      <th>Dep Time</th>\n",
       "      <th>Time Taken</th>\n",
       "    </tr>\n",
       "  </thead>\n",
       "  <tbody>\n",
       "    <tr>\n",
       "      <th>44</th>\n",
       "      <td>ID3229115650</td>\n",
       "      <td>1</td>\n",
       "      <td>5</td>\n",
       "      <td>1</td>\n",
       "      <td>37.799253</td>\n",
       "      <td>144.936490</td>\n",
       "      <td>-37.800238</td>\n",
       "      <td>144.969944</td>\n",
       "      <td>3189.0</td>\n",
       "      <td>2018-06-22</td>\n",
       "      <td>...</td>\n",
       "      <td>22</td>\n",
       "      <td>13</td>\n",
       "      <td>3</td>\n",
       "      <td>58</td>\n",
       "      <td>13</td>\n",
       "      <td>18</td>\n",
       "      <td>26</td>\n",
       "      <td>47906</td>\n",
       "      <td>47038</td>\n",
       "      <td>0</td>\n",
       "    </tr>\n",
       "    <tr>\n",
       "      <th>45</th>\n",
       "      <td>ID1124871665</td>\n",
       "      <td>0</td>\n",
       "      <td>6</td>\n",
       "      <td>2</td>\n",
       "      <td>37.787433</td>\n",
       "      <td>144.980377</td>\n",
       "      <td>-37.811397</td>\n",
       "      <td>144.937908</td>\n",
       "      <td>5953.0</td>\n",
       "      <td>2018-07-22</td>\n",
       "      <td>...</td>\n",
       "      <td>22</td>\n",
       "      <td>23</td>\n",
       "      <td>24</td>\n",
       "      <td>3</td>\n",
       "      <td>23</td>\n",
       "      <td>49</td>\n",
       "      <td>10</td>\n",
       "      <td>85750</td>\n",
       "      <td>84243</td>\n",
       "      <td>0</td>\n",
       "    </tr>\n",
       "    <tr>\n",
       "      <th>48</th>\n",
       "      <td>ID1413939448</td>\n",
       "      <td>0</td>\n",
       "      <td>2</td>\n",
       "      <td>3</td>\n",
       "      <td>37.814246</td>\n",
       "      <td>144.935278</td>\n",
       "      <td>-37.817427</td>\n",
       "      <td>144.987804</td>\n",
       "      <td>5409.0</td>\n",
       "      <td>2018-04-16</td>\n",
       "      <td>...</td>\n",
       "      <td>16</td>\n",
       "      <td>22</td>\n",
       "      <td>30</td>\n",
       "      <td>20</td>\n",
       "      <td>22</td>\n",
       "      <td>52</td>\n",
       "      <td>34</td>\n",
       "      <td>82354</td>\n",
       "      <td>81020</td>\n",
       "      <td>0</td>\n",
       "    </tr>\n",
       "    <tr>\n",
       "      <th>51</th>\n",
       "      <td>ID1717495513</td>\n",
       "      <td>0</td>\n",
       "      <td>6</td>\n",
       "      <td>7</td>\n",
       "      <td>37.790797</td>\n",
       "      <td>144.985865</td>\n",
       "      <td>-37.861835</td>\n",
       "      <td>144.905716</td>\n",
       "      <td>11711.0</td>\n",
       "      <td>2018-06-04</td>\n",
       "      <td>...</td>\n",
       "      <td>4</td>\n",
       "      <td>2</td>\n",
       "      <td>56</td>\n",
       "      <td>15</td>\n",
       "      <td>4</td>\n",
       "      <td>0</td>\n",
       "      <td>41</td>\n",
       "      <td>14441</td>\n",
       "      <td>10575</td>\n",
       "      <td>0</td>\n",
       "    </tr>\n",
       "    <tr>\n",
       "      <th>53</th>\n",
       "      <td>ID5989900523</td>\n",
       "      <td>2</td>\n",
       "      <td>7</td>\n",
       "      <td>3</td>\n",
       "      <td>37.861835</td>\n",
       "      <td>144.905716</td>\n",
       "      <td>-37.814862</td>\n",
       "      <td>144.974591</td>\n",
       "      <td>8450.0</td>\n",
       "      <td>2018-02-25</td>\n",
       "      <td>...</td>\n",
       "      <td>25</td>\n",
       "      <td>0</td>\n",
       "      <td>25</td>\n",
       "      <td>47</td>\n",
       "      <td>1</td>\n",
       "      <td>14</td>\n",
       "      <td>11</td>\n",
       "      <td>4451</td>\n",
       "      <td>1547</td>\n",
       "      <td>0</td>\n",
       "    </tr>\n",
       "  </tbody>\n",
       "</table>\n",
       "<p>5 rows × 26 columns</p>\n",
       "</div>"
      ],
      "text/plain": [
       "      Unnamed: 0  Uber Type  Origin Region  Destination Region  \\\n",
       "44  ID3229115650          1              5                   1   \n",
       "45  ID1124871665          0              6                   2   \n",
       "48  ID1413939448          0              2                   3   \n",
       "51  ID1717495513          0              6                   7   \n",
       "53  ID5989900523          2              7                   3   \n",
       "\n",
       "    Origin Latitude  Origin Longitude  Destination Latitude  \\\n",
       "44        37.799253        144.936490            -37.800238   \n",
       "45        37.787433        144.980377            -37.811397   \n",
       "48        37.814246        144.935278            -37.817427   \n",
       "51        37.790797        144.985865            -37.861835   \n",
       "53        37.861835        144.905716            -37.814862   \n",
       "\n",
       "    Destination Longitude  Journey Distance(m) Departure Date  ... Day  \\\n",
       "44             144.969944               3189.0     2018-06-22  ...  22   \n",
       "45             144.937908               5953.0     2018-07-22  ...  22   \n",
       "48             144.987804               5409.0     2018-04-16  ...  16   \n",
       "51             144.905716              11711.0     2018-06-04  ...   4   \n",
       "53             144.974591               8450.0     2018-02-25  ...  25   \n",
       "\n",
       "    Dep Hour Dep Min  Dep Sec  Arr Hour  Arr Min  Arr Sec  Arr Time  Dep Time  \\\n",
       "44        13       3       58        13       18       26     47906     47038   \n",
       "45        23      24        3        23       49       10     85750     84243   \n",
       "48        22      30       20        22       52       34     82354     81020   \n",
       "51         2      56       15         4        0       41     14441     10575   \n",
       "53         0      25       47         1       14       11      4451      1547   \n",
       "\n",
       "    Time Taken  \n",
       "44           0  \n",
       "45           0  \n",
       "48           0  \n",
       "51           0  \n",
       "53           0  \n",
       "\n",
       "[5 rows x 26 columns]"
      ]
     },
     "execution_count": 9,
     "metadata": {},
     "output_type": "execute_result"
    }
   ],
   "source": [
    "uber_df.loc[(uber_df[\"Origin Latitude\"]>-25)]"
   ]
  },
  {
   "cell_type": "markdown",
   "metadata": {},
   "source": [
    "#### Fixing the anomalies"
   ]
  },
  {
   "cell_type": "code",
   "execution_count": 10,
   "metadata": {},
   "outputs": [
    {
     "data": {
      "text/plain": [
       "-37.790797    9\n",
       "-37.773803    7\n",
       "-37.787433    6\n",
       "-37.787442    6\n",
       "-37.773845    3\n",
       " 37.790797    1\n",
       " 37.787433    1\n",
       "Name: Origin Latitude, dtype: int64"
      ]
     },
     "execution_count": 10,
     "metadata": {},
     "output_type": "execute_result"
    }
   ],
   "source": [
    "#uber_df.loc[(uber_df[\"Origin Region\"] == 2)][\"Origin Latitude\"].value_counts()\n",
    "#uber_df.loc[(uber_df[\"Origin Region\"] == 7)][\"Origin Latitude\"].value_counts()\n",
    "#uber_df.loc[(uber_df[\"Origin Region\"] == 5)][\"Origin Latitude\"].value_counts()\n",
    "uber_df.loc[(uber_df[\"Origin Region\"] == 6)][\"Origin Latitude\"].value_counts()\n"
   ]
  },
  {
   "cell_type": "code",
   "execution_count": 11,
   "metadata": {},
   "outputs": [],
   "source": [
    "uber_df.loc[(uber_df[\"Origin Latitude\"]>-25),\"Origin Latitude\"] = -(uber_df.loc[(uber_df[\"Origin Latitude\"])>-25][\"Origin Latitude\"])"
   ]
  },
  {
   "cell_type": "code",
   "execution_count": 12,
   "metadata": {},
   "outputs": [
    {
     "data": {
      "text/plain": [
       "(array([ 29.,   0.,   0.,   0.,   0.,   0.,   0.,  39., 124.,  94.]),\n",
       " array([-38.1109156, -38.0772043, -38.043493 , -38.0097817, -37.9760704,\n",
       "        -37.9423591, -37.9086478, -37.8749365, -37.8412252, -37.8075139,\n",
       "        -37.7738026]),\n",
       " <a list of 10 Patch objects>)"
      ]
     },
     "execution_count": 12,
     "metadata": {},
     "output_type": "execute_result"
    },
    {
     "data": {
      "image/png": "[encoded data removed]",
      "text/plain": [
       "<Figure size 432x288 with 1 Axes>"
      ]
     },
     "metadata": {},
     "output_type": "display_data"
    }
   ],
   "source": [
    "plt.hist(uber_df[\"Origin Latitude\"])\n"
   ]
  },
  {
   "cell_type": "markdown",
   "metadata": {},
   "source": [
    "## Checking for anomalies in Longitude"
   ]
  },
  {
   "cell_type": "code",
   "execution_count": 13,
   "metadata": {},
   "outputs": [
    {
     "data": {
      "text/plain": [
       "(array([29.,  0.,  0.,  0.,  0.,  0., 50., 74., 86., 47.]),\n",
       " array([144.6541725 , 144.69340025, 144.732628  , 144.77185575,\n",
       "        144.8110835 , 144.85031125, 144.889539  , 144.92876675,\n",
       "        144.9679945 , 145.00722225, 145.04645   ]),\n",
       " <a list of 10 Patch objects>)"
      ]
     },
     "execution_count": 13,
     "metadata": {},
     "output_type": "execute_result"
    },
    {
     "data": {
      "image/png": "[encoded data removed]",
      "text/plain": [
       "<Figure size 432x288 with 1 Axes>"
      ]
     },
     "metadata": {},
     "output_type": "display_data"
    }
   ],
   "source": [
    "plt.hist(uber_df[\"Origin Longitude\"])"
   ]
  },
  {
   "cell_type": "markdown",
   "metadata": {},
   "source": [
    "## Checking for regional Boundries\n",
    "Now that we have fixed the errors in latitude and longitude, we can check for regional boundries. We can do that using visuals from the scatter plot split by regions."
   ]
  },
  {
   "cell_type": "code",
   "execution_count": 14,
   "metadata": {},
   "outputs": [
    {
     "data": {
      "image/png": "[encoded data removed]",
      "text/plain": [
       "<Figure size 1520.8x1512 with 9 Axes>"
      ]
     },
     "metadata": {},
     "output_type": "display_data"
    }
   ],
   "source": [
    "g = sns.FacetGrid(uber_df, col=\"Origin Region\",col_wrap=3,height=7)\n",
    "g.map(plt.scatter, \"Origin Latitude\", \"Origin Longitude\")\n",
    "g.add_legend();\n"
   ]
  },
  {
   "cell_type": "markdown",
   "metadata": {},
   "source": [
    "Here we can see some outliers in Region 2,4 and 5\n",
    "\n"
   ]
  },
  {
   "cell_type": "markdown",
   "metadata": {},
   "source": [
    "## Fixing Regional Boundries"
   ]
  },
  {
   "cell_type": "code",
   "execution_count": 15,
   "metadata": {},
   "outputs": [],
   "source": [
    "uber_df.loc[((uber_df[\"Origin Region\"] ==2) & (uber_df[\"Origin Longitude\"] >145)), \"Origin Region\"] = 8 \n",
    "uber_df.loc[((uber_df[\"Origin Region\"] ==2) & (uber_df[\"Origin Latitude\"] <-37.85)),\"Origin Region\"] = 7 \n",
    "uber_df.loc[((uber_df[\"Origin Region\"] ==4) & (uber_df[\"Origin Longitude\"] <144.97)),\"Origin Region\"] = 1  \n",
    "uber_df.loc[((uber_df[\"Origin Region\"] ==5) & (uber_df[\"Origin Longitude\"] <144.7)),\"Origin Region\"] = 9 \n",
    "uber_df.loc[((uber_df[\"Origin Region\"] ==5) & (uber_df[\"Origin Longitude\"] >144.95)),\"Origin Region\"] = 6"
   ]
  },
  {
   "cell_type": "code",
   "execution_count": 16,
   "metadata": {},
   "outputs": [
    {
     "data": {
      "image/png": "[encoded data removed]",
      "text/plain": [
       "<Figure size 1520.8x1512 with 9 Axes>"
      ]
     },
     "metadata": {},
     "output_type": "display_data"
    }
   ],
   "source": [
    "g = sns.FacetGrid(uber_df, col=\"Origin Region\",col_wrap=3,height=7)\n",
    "g.map(plt.scatter, \"Origin Latitude\", \"Origin Longitude\")\n",
    "g.add_legend();"
   ]
  },
  {
   "cell_type": "markdown",
   "metadata": {},
   "source": [
    "## Exploring and Fixing Destination Locations\n",
    "Now that we have fixed error in origin region and geo locations we can follow the same step to fix errors in the destination regions and geo-locations"
   ]
  },
  {
   "cell_type": "code",
   "execution_count": 17,
   "metadata": {},
   "outputs": [
    {
     "data": {
      "text/plain": [
       "(array([281.,   0.,   0.,   0.,   0.,   0.,   0.,   0.,   0.,   5.]),\n",
       " array([-38.1109156 , -30.48873248, -22.86654936, -15.24436624,\n",
       "         -7.62218312,   0.        ,   7.62218312,  15.24436624,\n",
       "         22.86654936,  30.48873248,  38.1109156 ]),\n",
       " <a list of 10 Patch objects>)"
      ]
     },
     "execution_count": 17,
     "metadata": {},
     "output_type": "execute_result"
    },
    {
     "data": {
      "image/png": "[encoded data removed]",
      "text/plain": [
       "<Figure size 432x288 with 1 Axes>"
      ]
     },
     "metadata": {},
     "output_type": "display_data"
    }
   ],
   "source": [
    "plt.hist(uber_df[\"Destination Latitude\"])"
   ]
  },
  {
   "cell_type": "markdown",
   "metadata": {},
   "source": [
    "Here in the histogram we can see an `outlier` which has values very different from the normal trend."
   ]
  },
  {
   "cell_type": "code",
   "execution_count": 18,
   "metadata": {},
   "outputs": [
    {
     "data": {
      "text/html": [
       "<div>\n",
       "<style scoped>\n",
       "    .dataframe tbody tr th:only-of-type {\n",
       "        vertical-align: middle;\n",
       "    }\n",
       "\n",
       "    .dataframe tbody tr th {\n",
       "        vertical-align: top;\n",
       "    }\n",
       "\n",
       "    .dataframe thead th {\n",
       "        text-align: right;\n",
       "    }\n",
       "</style>\n",
       "<table border=\"1\" class=\"dataframe\">\n",
       "  <thead>\n",
       "    <tr style=\"text-align: right;\">\n",
       "      <th></th>\n",
       "      <th>Unnamed: 0</th>\n",
       "      <th>Uber Type</th>\n",
       "      <th>Origin Region</th>\n",
       "      <th>Destination Region</th>\n",
       "      <th>Origin Latitude</th>\n",
       "      <th>Origin Longitude</th>\n",
       "      <th>Destination Latitude</th>\n",
       "      <th>Destination Longitude</th>\n",
       "      <th>Journey Distance(m)</th>\n",
       "      <th>Departure Date</th>\n",
       "      <th>...</th>\n",
       "      <th>Day</th>\n",
       "      <th>Dep Hour</th>\n",
       "      <th>Dep Min</th>\n",
       "      <th>Dep Sec</th>\n",
       "      <th>Arr Hour</th>\n",
       "      <th>Arr Min</th>\n",
       "      <th>Arr Sec</th>\n",
       "      <th>Arr Time</th>\n",
       "      <th>Dep Time</th>\n",
       "      <th>Time Taken</th>\n",
       "    </tr>\n",
       "  </thead>\n",
       "  <tbody>\n",
       "    <tr>\n",
       "      <th>58</th>\n",
       "      <td>ID1487491204</td>\n",
       "      <td>0</td>\n",
       "      <td>5</td>\n",
       "      <td>4</td>\n",
       "      <td>-37.805918</td>\n",
       "      <td>144.936650</td>\n",
       "      <td>37.804986</td>\n",
       "      <td>144.995679</td>\n",
       "      <td>5757.0</td>\n",
       "      <td>2018-03-02</td>\n",
       "      <td>...</td>\n",
       "      <td>2</td>\n",
       "      <td>2</td>\n",
       "      <td>19</td>\n",
       "      <td>2</td>\n",
       "      <td>2</td>\n",
       "      <td>44</td>\n",
       "      <td>10</td>\n",
       "      <td>9850</td>\n",
       "      <td>8342</td>\n",
       "      <td>0</td>\n",
       "    </tr>\n",
       "    <tr>\n",
       "      <th>63</th>\n",
       "      <td>ID1503781776</td>\n",
       "      <td>0</td>\n",
       "      <td>7</td>\n",
       "      <td>5</td>\n",
       "      <td>-37.861835</td>\n",
       "      <td>144.905716</td>\n",
       "      <td>37.804481</td>\n",
       "      <td>144.936400</td>\n",
       "      <td>10830.0</td>\n",
       "      <td>2018-06-07</td>\n",
       "      <td>...</td>\n",
       "      <td>7</td>\n",
       "      <td>6</td>\n",
       "      <td>0</td>\n",
       "      <td>52</td>\n",
       "      <td>6</td>\n",
       "      <td>59</td>\n",
       "      <td>24</td>\n",
       "      <td>25164</td>\n",
       "      <td>21652</td>\n",
       "      <td>0</td>\n",
       "    </tr>\n",
       "    <tr>\n",
       "      <th>64</th>\n",
       "      <td>ID1172661954</td>\n",
       "      <td>0</td>\n",
       "      <td>9</td>\n",
       "      <td>5</td>\n",
       "      <td>-38.110916</td>\n",
       "      <td>144.654173</td>\n",
       "      <td>37.808375</td>\n",
       "      <td>144.928804</td>\n",
       "      <td>44129.0</td>\n",
       "      <td>2018-04-13</td>\n",
       "      <td>...</td>\n",
       "      <td>13</td>\n",
       "      <td>7</td>\n",
       "      <td>4</td>\n",
       "      <td>1</td>\n",
       "      <td>10</td>\n",
       "      <td>0</td>\n",
       "      <td>41</td>\n",
       "      <td>36041</td>\n",
       "      <td>25441</td>\n",
       "      <td>0</td>\n",
       "    </tr>\n",
       "    <tr>\n",
       "      <th>69</th>\n",
       "      <td>ID1302240018</td>\n",
       "      <td>0</td>\n",
       "      <td>3</td>\n",
       "      <td>9</td>\n",
       "      <td>-37.816735</td>\n",
       "      <td>144.988190</td>\n",
       "      <td>38.110916</td>\n",
       "      <td>144.654173</td>\n",
       "      <td>45704.0</td>\n",
       "      <td>2018-02-24</td>\n",
       "      <td>...</td>\n",
       "      <td>24</td>\n",
       "      <td>0</td>\n",
       "      <td>21</td>\n",
       "      <td>12</td>\n",
       "      <td>3</td>\n",
       "      <td>25</td>\n",
       "      <td>25</td>\n",
       "      <td>12325</td>\n",
       "      <td>1272</td>\n",
       "      <td>0</td>\n",
       "    </tr>\n",
       "    <tr>\n",
       "      <th>71</th>\n",
       "      <td>ID3675664533</td>\n",
       "      <td>1</td>\n",
       "      <td>7</td>\n",
       "      <td>8</td>\n",
       "      <td>-37.861835</td>\n",
       "      <td>144.905716</td>\n",
       "      <td>37.807202</td>\n",
       "      <td>145.026637</td>\n",
       "      <td>13986.0</td>\n",
       "      <td>2018-03-03</td>\n",
       "      <td>...</td>\n",
       "      <td>3</td>\n",
       "      <td>7</td>\n",
       "      <td>15</td>\n",
       "      <td>54</td>\n",
       "      <td>8</td>\n",
       "      <td>27</td>\n",
       "      <td>26</td>\n",
       "      <td>30446</td>\n",
       "      <td>26154</td>\n",
       "      <td>0</td>\n",
       "    </tr>\n",
       "  </tbody>\n",
       "</table>\n",
       "<p>5 rows × 26 columns</p>\n",
       "</div>"
      ],
      "text/plain": [
       "      Unnamed: 0  Uber Type  Origin Region  Destination Region  \\\n",
       "58  ID1487491204          0              5                   4   \n",
       "63  ID1503781776          0              7                   5   \n",
       "64  ID1172661954          0              9                   5   \n",
       "69  ID1302240018          0              3                   9   \n",
       "71  ID3675664533          1              7                   8   \n",
       "\n",
       "    Origin Latitude  Origin Longitude  Destination Latitude  \\\n",
       "58       -37.805918        144.936650             37.804986   \n",
       "63       -37.861835        144.905716             37.804481   \n",
       "64       -38.110916        144.654173             37.808375   \n",
       "69       -37.816735        144.988190             38.110916   \n",
       "71       -37.861835        144.905716             37.807202   \n",
       "\n",
       "    Destination Longitude  Journey Distance(m) Departure Date  ... Day  \\\n",
       "58             144.995679               5757.0     2018-03-02  ...   2   \n",
       "63             144.936400              10830.0     2018-06-07  ...   7   \n",
       "64             144.928804              44129.0     2018-04-13  ...  13   \n",
       "69             144.654173              45704.0     2018-02-24  ...  24   \n",
       "71             145.026637              13986.0     2018-03-03  ...   3   \n",
       "\n",
       "    Dep Hour Dep Min  Dep Sec  Arr Hour  Arr Min  Arr Sec  Arr Time  Dep Time  \\\n",
       "58         2      19        2         2       44       10      9850      8342   \n",
       "63         6       0       52         6       59       24     25164     21652   \n",
       "64         7       4        1        10        0       41     36041     25441   \n",
       "69         0      21       12         3       25       25     12325      1272   \n",
       "71         7      15       54         8       27       26     30446     26154   \n",
       "\n",
       "    Time Taken  \n",
       "58           0  \n",
       "63           0  \n",
       "64           0  \n",
       "69           0  \n",
       "71           0  \n",
       "\n",
       "[5 rows x 26 columns]"
      ]
     },
     "execution_count": 18,
     "metadata": {},
     "output_type": "execute_result"
    }
   ],
   "source": [
    "uber_df.loc[uber_df[\"Destination Latitude\"] > -25]"
   ]
  },
  {
   "cell_type": "code",
   "execution_count": 19,
   "metadata": {},
   "outputs": [
    {
     "data": {
      "text/plain": [
       "-38.110916    24\n",
       " 38.110916     1\n",
       "Name: Destination Latitude, dtype: int64"
      ]
     },
     "execution_count": 19,
     "metadata": {},
     "output_type": "execute_result"
    }
   ],
   "source": [
    "#uber_df.loc[(uber_df[\"Destination Region\"] == 4)][\"Destination Latitude\"].value_counts()\n",
    "#uber_df.loc[(uber_df[\"Destination Region\"] == 5)][\"Destination Latitude\"].value_counts()\n",
    "#uber_df.loc[(uber_df[\"Destination Region\"] == 8)][\"Destination Latitude\"].value_counts()\n",
    "uber_df.loc[(uber_df[\"Destination Region\"] == 9)][\"Destination Latitude\"].value_counts()"
   ]
  },
  {
   "cell_type": "code",
   "execution_count": 20,
   "metadata": {},
   "outputs": [],
   "source": [
    "uber_df.loc[(uber_df[\"Destination Latitude\"]>-25),\"Destination Latitude\"] = -(uber_df.loc[(uber_df[\"Destination Latitude\"])>-25][\"Destination Latitude\"])"
   ]
  },
  {
   "cell_type": "code",
   "execution_count": 21,
   "metadata": {},
   "outputs": [
    {
     "data": {
      "text/plain": [
       "(array([ 26.,   0.,   0.,   0.,   0.,   0.,   0.,  27., 144.,  89.]),\n",
       " array([-38.1109156, -38.0772043, -38.043493 , -38.0097817, -37.9760704,\n",
       "        -37.9423591, -37.9086478, -37.8749365, -37.8412252, -37.8075139,\n",
       "        -37.7738026]),\n",
       " <a list of 10 Patch objects>)"
      ]
     },
     "execution_count": 21,
     "metadata": {},
     "output_type": "execute_result"
    },
    {
     "data": {
      "image/png": "[encoded data removed]",
      "text/plain": [
       "<Figure size 432x288 with 1 Axes>"
      ]
     },
     "metadata": {},
     "output_type": "display_data"
    }
   ],
   "source": [
    "plt.hist(uber_df[\"Destination Latitude\"])"
   ]
  },
  {
   "cell_type": "code",
   "execution_count": 22,
   "metadata": {},
   "outputs": [
    {
     "data": {
      "text/plain": [
       "(array([29.,  0.,  0.,  0.,  0.,  0., 50., 74., 86., 47.]),\n",
       " array([144.6541725 , 144.69340025, 144.732628  , 144.77185575,\n",
       "        144.8110835 , 144.85031125, 144.889539  , 144.92876675,\n",
       "        144.9679945 , 145.00722225, 145.04645   ]),\n",
       " <a list of 10 Patch objects>)"
      ]
     },
     "execution_count": 22,
     "metadata": {},
     "output_type": "execute_result"
    },
    {
     "data": {
      "image/png": "[encoded data removed]",
      "text/plain": [
       "<Figure size 432x288 with 1 Axes>"
      ]
     },
     "metadata": {},
     "output_type": "display_data"
    }
   ],
   "source": [
    "plt.hist(uber_df[\"Origin Longitude\"])"
   ]
  },
  {
   "cell_type": "markdown",
   "metadata": {},
   "source": [
    "### Checking for Reagional Boundraies (Destination) "
   ]
  },
  {
   "cell_type": "code",
   "execution_count": 23,
   "metadata": {},
   "outputs": [
    {
     "data": {
      "image/png": "[encoded data removed]",
      "text/plain": [
       "<Figure size 1520.8x1512 with 9 Axes>"
      ]
     },
     "metadata": {},
     "output_type": "display_data"
    }
   ],
   "source": [
    "g = sns.FacetGrid(uber_df, col=\"Destination Region\",col_wrap=3,height = 7)\n",
    "g.map(plt.scatter, \"Destination Latitude\", \"Destination Longitude\")\n",
    "g.add_legend();\n"
   ]
  },
  {
   "cell_type": "markdown",
   "metadata": {},
   "source": [
    "Here also, we can see a few outliers in the Destination Regaions. We can fix them individually and assign them to their corresponding correct regions"
   ]
  },
  {
   "cell_type": "code",
   "execution_count": 24,
   "metadata": {},
   "outputs": [],
   "source": [
    "uber_df.loc[((uber_df[\"Destination Region\"] ==1) & (uber_df[\"Destination Longitude\"] >145)), \"Destination Region\"] = 8 \n",
    "uber_df.loc[((uber_df[\"Destination Region\"] ==2) & (uber_df[\"Destination Latitude\"] <-38.05)),\"Destination Region\"] = 9 \n",
    "uber_df.loc[((uber_df[\"Destination Region\"] ==7) & (uber_df[\"Destination Latitude\"] >-37.85)),\"Destination Region\"] = 1 \n",
    "uber_df.loc[((uber_df[\"Destination Region\"] ==8) & (uber_df[\"Destination Longitude\"] <145)),\"Destination Region\"] = 1 \n",
    "uber_df.loc[((uber_df[\"Destination Region\"] ==4) & (uber_df[\"Destination Longitude\"] <144.98)),\"Destination Region\"] = 3 \n"
   ]
  },
  {
   "cell_type": "code",
   "execution_count": 25,
   "metadata": {},
   "outputs": [
    {
     "data": {
      "image/png": "[encoded data removed]",
      "text/plain": [
       "<Figure size 1520.8x1512 with 9 Axes>"
      ]
     },
     "metadata": {},
     "output_type": "display_data"
    }
   ],
   "source": [
    "g = sns.FacetGrid(uber_df, col=\"Destination Region\",col_wrap=3,height = 7)\n",
    "g.map(plt.scatter, \"Destination Latitude\", \"Destination Longitude\")\n",
    "g.add_legend();"
   ]
  },
  {
   "cell_type": "markdown",
   "metadata": {},
   "source": [
    "## Checking for Errors in Distance and Time\n",
    "\n",
    "As we are using diferent files to calculate the distance between two points we start by checking if every location in our data is present in the nodes file."
   ]
  },
  {
   "cell_type": "code",
   "execution_count": 26,
   "metadata": {},
   "outputs": [],
   "source": [
    "for each in uber_df[\"Origin Longitude\"] :\n",
    "    if each not in list(nodes_df.lon):\n",
    "        print(each)\n"
   ]
  },
  {
   "cell_type": "markdown",
   "metadata": {},
   "source": [
    "Now that we have checked for the nodes being present in the file, we can reduce the time complexity by filtering out only the data that is required to calculate the distance and the shortest path."
   ]
  },
  {
   "cell_type": "code",
   "execution_count": 27,
   "metadata": {},
   "outputs": [],
   "source": [
    "required_lat_nodes = pd.DataFrame(columns=nodes_df.columns.values)\n",
    "required_nodes = pd.DataFrame(columns=nodes_df.columns.values)\n"
   ]
  },
  {
   "cell_type": "code",
   "execution_count": 28,
   "metadata": {},
   "outputs": [],
   "source": [
    "for index,row in nodes_df.iterrows():\n",
    "    if (row.lat in list(uber_df[\"Origin Latitude\"])) or (row.lat in list(uber_df[\"Destination Latitude\"])):\n",
    "        required_lat_nodes = required_lat_nodes.append(pd.DataFrame(row).transpose())\n",
    "for index,row in required_lat_nodes.iterrows():\n",
    "    if (row.lon in list(uber_df[\"Origin Longitude\"])) or (row.lon in list(uber_df[\"Destination Longitude\"])):\n",
    "        required_nodes = required_nodes.append(pd.DataFrame(row).transpose())"
   ]
  },
  {
   "cell_type": "code",
   "execution_count": 29,
   "metadata": {},
   "outputs": [],
   "source": [
    "uber_df[\"Origin Node\"] = 0\n",
    "uber_df[\"Destination Node\"] = 0\n",
    "\n",
    "for index_u, row_u in uber_df.iterrows():\n",
    "    lat_o = row_u[\"Origin Latitude\"]\n",
    "    lon_o = row_u[\"Origin Longitude\"]\n",
    "    lat_d = row_u[\"Destination Latitude\"]\n",
    "    lon_d = row_u[\"Destination Longitude\"]\n",
    "    for index_n, row in required_nodes.iterrows():\n",
    "        if (lat_o == row.lat) & (lon_o == row.lon):\n",
    "            node_o = required_nodes.loc[index_n,\"Unnamed: 0\"]\n",
    "            break\n",
    "    for index_n, row in required_nodes.iterrows():\n",
    "        if (lat_d == row.lat) & (lon_d == row.lon):\n",
    "            node_d = required_nodes.loc[index_n,\"Unnamed: 0\"]\n",
    "            break\n",
    "    \n",
    "    uber_df.at[index_u,\"Origin Node\"] = node_o\n",
    "    uber_df.at[index_u,\"Destination Node\"] = node_d\n",
    "\n",
    "    \n"
   ]
  },
  {
   "cell_type": "markdown",
   "metadata": {},
   "source": [
    "## Errors in Time\n",
    "\n",
    "Here, we explore possibilities of errors in Arrival Time, Departure Time and Travel Time. For a few rows, It was notinced that the Departure Time was less than the arrival time which can never be the case incase of same day travel. We try to fix them by swapping values in such rows."
   ]
  },
  {
   "cell_type": "code",
   "execution_count": 30,
   "metadata": {},
   "outputs": [],
   "source": [
    "for index,row in uber_df.iterrows():\n",
    "    if (row[\"Arr Time\"] < row[\"Dep Time\"]) & (row[\"Arr Hour\"] > 2):\n",
    "        uber_df.at[index,\"Arr Hour\"],uber_df.at[index,\"Dep Hour\"] = row[\"Dep Hour\"],row[\"Arr Hour\"]\n",
    "        uber_df.at[index,\"Arr Min\"],uber_df.at[index,\"Dep Min\"] = row[\"Dep Min\"],row[\"Arr Min\"]\n",
    "        uber_df.at[index,\"Arr Sec\"],uber_df.at[index,\"Dep Sec\"] = row[\"Dep Sec\"],row[\"Arr Sec\"]\n",
    "        uber_df.at[index,\"Arrival Time\"],uber_df.at[index,\"Departure Time\"] = row[\"Departure Time\"],row[\"Arrival Time\"]\n",
    "\n",
    "if flag == 0 : \n",
    "    uber_df.at[156,\"Arrival Time\"],uber_df.at[156,\"Departure Time\"] = uber_df.at[156,\"Departure Time\"],uber_df.at[156,\"Arrival Time\"] \n",
    "    uber_df.at[156,\"Arr Hour\"],uber_df.at[156,\"Dep Hour\"] = uber_df.at[156,\"Dep Hour\"],uber_df.at[156,\"Arr Hour\"]\n",
    "    uber_df.at[156,\"Arr Min\"],uber_df.at[156,\"Dep Min\"] = uber_df.at[156,\"Dep Min\"],uber_df.at[156,\"Arr Min\"] \n",
    "    uber_df.at[156,\"Arr Sec\"],uber_df.at[156,\"Dep Sec\"] = uber_df.at[156,\"Dep Sec\"],uber_df.at[156,\"Arr Sec\"]\n",
    "    flag = 1"
   ]
  },
  {
   "cell_type": "code",
   "execution_count": 31,
   "metadata": {},
   "outputs": [],
   "source": [
    "for each_row in range(0,len(uber_df)):\n",
    "    uber_df.at[each_row,\"Arr Time\"] = uber_df.loc[each_row][\"Arr Hour\"]*3600 + uber_df.loc[each_row][\"Arr Min\"]*60 + uber_df.loc[each_row][\"Arr Sec\"]\n",
    "    uber_df.at[each_row,\"Dep Time\"] = uber_df.loc[each_row][\"Dep Hour\"]*3600 + uber_df.loc[each_row][\"Dep Min\"]*60 + uber_df.loc[each_row][\"Dep Sec\"]\n",
    "    tt= uber_df.at[each_row,\"Arr Time\"]-uber_df.at[each_row,\"Dep Time\"]\n",
    "    if tt<0:\n",
    "        tt = ((23*3600 + 59*60 + 59) - uber_df.at[each_row,\"Dep Time\"]) + uber_df.at[each_row,\"Arr Time\"]\n",
    "    uber_df.at[each_row,\"Time Taken\"] = tt\n",
    "    "
   ]
  },
  {
   "cell_type": "markdown",
   "metadata": {},
   "source": [
    "###### Now, that we have corrected the Syntactical Error we can check for a few `Semantical Errors`.\n",
    "We can calculate the travel time by each uber drive and try to fing errors in related columns such as Arrival Time \n",
    "\n",
    "##### This may take 5-7 minutes to complete"
   ]
  },
  {
   "cell_type": "code",
   "execution_count": 32,
   "metadata": {
    "scrolled": true
   },
   "outputs": [],
   "source": [
    "uber_df[\"Distance\"] = 0\n",
    "uber_df[\"change\"] = 0\n",
    "cnt = 0\n",
    "G = nx.from_pandas_edgelist(edges_df,\"u\",\"v\",[\"distance(m)\"])\n",
    "for index,row in uber_df.iterrows():\n",
    "    dist,path = nx.single_source_dijkstra(G,source=row[\"Origin Node\"],target=row[\"Destination Node\"],weight = \"distance(m)\")\n",
    "    uber_df.loc[index,\"Distance\"] = dist\n",
    "    if (uber_df.loc[index,\"Time Taken\"] > uber_df.loc[index,\"Travel Time(s)\"] + 1 ) | (uber_df.loc[index,\"Time Taken\"] < uber_df.loc[index,\"Travel Time(s)\"] -1 ):\n",
    "        flag = 0 \n",
    "        paths = nx.all_shortest_paths(G,source=row[\"Origin Node\"], target=row[\"Destination Node\"], weight=\"distance(m)\",method = \"dijkstra\")\n",
    "        p_list = list(paths)\n",
    "        tt_list = list()\n",
    "        for each_path in p_list:\n",
    "            tt = 0\n",
    "            for i in range(len(each_path)-1):\n",
    "                tt = tt + (edges_df[((edges_df.u==each_path[i]) & (edges_df.v== each_path[i+1])) | ((edges_df.v==each_path[i]) & (edges_df.u== each_path[i+1]))]['distance(m)'].values[0] * 1.0 * 3600) / (edges_df[((edges_df.u==each_path[i]) & (edges_df.v== each_path[i+1])) | ((edges_df.v==each_path[i]) & (edges_df.u== each_path[i+1]))]['speed(km/h)'].values[0] * 1000)\n",
    "            if (tt > uber_df.loc[index,\"Travel Time(s)\"] -5 ) & ( tt < uber_df.loc[index,\"Travel Time(s)\"] + 5 ):\n",
    "                tt_list.append(tt)\n",
    "        if len(tt_list) > 0 :\n",
    "            tt = min(tt_list, key=lambda x:abs(x-uber_df.loc[index,\"Travel Time(s)\"]))\n",
    "            uber_df.loc[index,\"Time Taken\"] = round(tt,2)\n",
    "            uber_df.loc[index,\"change\"] = 1\n",
    "        if len(p_list) == 1 :\n",
    "            each_path = p_list[0]\n",
    "            tt = 0\n",
    "            for i in range(len(each_path)-1):\n",
    "                tt = tt + (edges_df[((edges_df.u==each_path[i]) & (edges_df.v== each_path[i+1])) | ((edges_df.v==each_path[i]) & (edges_df.u== each_path[i+1]))]['distance(m)'].values[0] * 1.0 * 3600) / (edges_df[((edges_df.u==each_path[i]) & (edges_df.v== each_path[i+1])) | ((edges_df.v==each_path[i]) & (edges_df.u== each_path[i+1]))]['speed(km/h)'].values[0] * 1000)\n",
    "            uber_df.loc[index,\"Time Taken\"] = round(tt,2)\n",
    "            uber_df.loc[index,\"change\"] = 1\n",
    "    else:\n",
    "        uber_df.loc[index,\"change\"] = 2\n",
    "    if uber_df.loc[index,\"change\"] ==0 :\n",
    "        paths = nx.all_shortest_paths(G,source=row[\"Origin Node\"], target=row[\"Destination Node\"], weight=\"distance(m)\",method = \"dijkstra\")\n",
    "        p_list = list(paths)\n",
    "        tt_list = list()\n",
    "        for each_path in p_list:\n",
    "            tt = 0\n",
    "            for i in range(len(each_path)-1):\n",
    "                tt = tt + (edges_df[((edges_df.u==each_path[i]) & (edges_df.v== each_path[i+1])) | ((edges_df.v==each_path[i]) & (edges_df.u== each_path[i+1]))]['distance(m)'].values[0] * 1.0 * 3600) / (edges_df[((edges_df.u==each_path[i]) & (edges_df.v== each_path[i+1])) | ((edges_df.v==each_path[i]) & (edges_df.u== each_path[i+1]))]['speed(km/h)'].values[0] * 1000)\n",
    "            if (tt > uber_df.loc[index,\"Time Taken\"] - 5) & (tt < uber_df.loc[index,\"Time Taken\"] + 5):\n",
    "                tt_list.append(tt)\n",
    "        if len(tt_list)>0 :\n",
    "            tt = min(tt_list, key=lambda x:abs(x-uber_df.loc[index,\"Time Taken\"]))\n",
    "            uber_df.loc[index,\"Time Taken\"] = round(tt,2)\n",
    "            uber_df.loc[index,\"change\"] = 1\n",
    "        if len(p_list) == 1 :\n",
    "            each_path = p_list[0]\n",
    "            tt = 0\n",
    "            for i in range(len(each_path)-1):\n",
    "                tt = tt + (edges_df[((edges_df.u==each_path[i]) & (edges_df.v== each_path[i+1])) | ((edges_df.v==each_path[i]) & (edges_df.u== each_path[i+1]))]['distance(m)'].values[0] * 1.0 * 3600) / (edges_df[((edges_df.u==each_path[i]) & (edges_df.v== each_path[i+1])) | ((edges_df.v==each_path[i]) & (edges_df.u== each_path[i+1]))]['speed(km/h)'].values[0] * 1000)\n",
    "            uber_df.loc[index,\"Time Taken\"] = round(tt,2)\n",
    "            uber_df.loc[index,\"change\"] = 1"
   ]
  },
  {
   "cell_type": "code",
   "execution_count": null,
   "metadata": {},
   "outputs": [],
   "source": []
  },
  {
   "cell_type": "markdown",
   "metadata": {},
   "source": [
    "Here, we can try to rectify the `arrival time` of the cab based on departure time and the time taken by the cab on the shortest route. "
   ]
  },
  {
   "cell_type": "code",
   "execution_count": 33,
   "metadata": {},
   "outputs": [],
   "source": [
    "for index,row in uber_df.iterrows():\n",
    "    a_time = row[\"Dep Time\"] + int(row[\"Time Taken\"])\n",
    "    hour = (int(a_time/3600)%24)\n",
    "    minutes = int((int(a_time)%3600)/60)\n",
    "    seconds = int((int(a_time)%3600)%60)\n",
    "    uber_df.at[index,\"Arr Time\"] = a_time \n",
    "    uber_df.at[index,\"Arr Hour\"] = hour\n",
    "    uber_df.at[index,\"Arr Min\"] = minutes\n",
    "    uber_df.at[index,\"Arr Sec\"] = seconds\n",
    "    "
   ]
  },
  {
   "cell_type": "code",
   "execution_count": 34,
   "metadata": {},
   "outputs": [],
   "source": [
    "uber_df[\"Arrival T\"] = \"\"\n",
    "for index,row in uber_df.iterrows():\n",
    "    h = str(uber_df.at[index,\"Arr Hour\"])\n",
    "    m = str(uber_df.at[index,\"Arr Min\"])\n",
    "    if len(m) == 1:\n",
    "        m = \"0\"+m\n",
    "    s = str(uber_df.at[index,\"Arr Sec\"])\n",
    "    if len(s) == 1:\n",
    "        s = \"0\"+s\n",
    "    uber_df.at[index,\"Arrival T\"] = h + \":\" + m + \":\" + s"
   ]
  },
  {
   "cell_type": "markdown",
   "metadata": {},
   "source": [
    "### Finding errors in Dates\n",
    "There are two different kinds of errors that are present in the dates\n",
    "1. The days and Months were swapped\n",
    "2. Few dates do not exist"
   ]
  },
  {
   "cell_type": "code",
   "execution_count": 35,
   "metadata": {},
   "outputs": [
    {
     "name": "stdout",
     "output_type": "stream",
     "text": [
      "2018-23-07\n",
      "2018-13-01\n",
      "2018-21-04\n",
      "2018-21-01\n",
      "2018-24-03\n",
      "2018-28-07\n",
      "2018-04-31\n",
      "2018-02-30\n",
      "2018-02-30\n",
      "2018-06-31\n",
      "2018-02-30\n",
      "2018-06-31\n",
      "2018-02-30\n",
      "2018-06-31\n",
      "2018-02-30\n",
      "2018-06-31\n"
     ]
    }
   ],
   "source": [
    "for index,row in uber_df.iterrows():\n",
    "    if row.Month > 12:\n",
    "        temp = row.Month\n",
    "        uber_df.at[index,\"Month\"] = uber_df.at[index,\"Day\"]\n",
    "        uber_df.at[index,\"Day\"] = temp\n",
    "    error = 0\n",
    "    try : \n",
    "        datetime.datetime(int(row.Year),int(row.Month),int(row.Day))\n",
    "    except ValueError :\n",
    "        error = 1\n",
    "    if error == 1:\n",
    "        cnt+=1\n",
    "        print(row[\"Departure Date\"])\n",
    "\n"
   ]
  },
  {
   "cell_type": "code",
   "execution_count": 36,
   "metadata": {},
   "outputs": [],
   "source": [
    "uber_df.loc[uber_df[\"Departure Date\"]==\"2018-02-30\",\"Month\"] = 3\n",
    "uber_df.loc[uber_df[\"Departure Date\"]==\"2018-02-30\",\"Day\"] = 2\n",
    "uber_df.loc[uber_df[\"Departure Date\"]==\"2018-04-31\",\"Month\"] = 5\n",
    "uber_df.loc[uber_df[\"Departure Date\"]==\"2018-04-31\",\"Day\"] = 1\n",
    "uber_df.loc[uber_df[\"Departure Date\"]==\"2018-06-31\",\"Month\"] = 7\n",
    "uber_df.loc[uber_df[\"Departure Date\"]==\"2018-06-31\",\"Day\"] = 1\n"
   ]
  },
  {
   "cell_type": "code",
   "execution_count": 37,
   "metadata": {},
   "outputs": [],
   "source": [
    "uber_df[\"Date\"] = \"\"\n",
    "for index,row in uber_df.iterrows():\n",
    "    d = str(uber_df.at[index,\"Day\"])\n",
    "    if len(d) == 1:\n",
    "        d = \"0\"+d\n",
    "    m = str(uber_df.at[index,\"Month\"])\n",
    "    if len(m) == 1:\n",
    "        m = \"0\"+m\n",
    "    y = str(uber_df.at[index,\"Year\"])\n",
    "    uber_df.at[index,\"Date\"] = y + \"-\" + m + \"-\" + d\n",
    "    "
   ]
  },
  {
   "cell_type": "markdown",
   "metadata": {},
   "source": [
    "Now that we have corrected the errors we now can overwrite the columns containing errors. "
   ]
  },
  {
   "cell_type": "code",
   "execution_count": 38,
   "metadata": {},
   "outputs": [],
   "source": [
    "uber_df[\"Journey Distance(m)\"] = uber_df[\"Distance\"] \n",
    "uber_df[\"Arrival Time\"] = uber_df[\"Arrival T\"] \n",
    "uber_df[\"Travel Time(s)\"] = uber_df[\"Time Taken\"] \n",
    "uber_df[\"Departure Date\"] = uber_df[\"Date\"] "
   ]
  },
  {
   "cell_type": "markdown",
   "metadata": {},
   "source": [
    "## Saving Dirty Data Solution"
   ]
  },
  {
   "cell_type": "code",
   "execution_count": 39,
   "metadata": {},
   "outputs": [],
   "source": [
    "drop_col = ['Year','Month', 'Day', 'Dep Hour', 'Dep Min', 'Dep Sec', 'Arr Hour', 'Arr Min','Arr Sec', 'Arr Time', 'Dep Time', 'Time Taken', 'Origin Node','Destination Node', 'Distance', 'change', 'Arrival T', 'Date']\n",
    "uber_df = uber_df.drop(drop_col,axis=1)\n"
   ]
  },
  {
   "cell_type": "code",
   "execution_count": null,
   "metadata": {},
   "outputs": [],
   "source": []
  },
  {
   "cell_type": "markdown",
   "metadata": {},
   "source": [
    "# Task II ( Outliers )\n",
    "The second part of the assignment help us understand the concepts of outliers even better."
   ]
  },
  {
   "cell_type": "markdown",
   "metadata": {},
   "source": [
    "## Loading the outlier File"
   ]
  },
  {
   "cell_type": "code",
   "execution_count": 40,
   "metadata": {},
   "outputs": [
    {
     "data": {
      "text/html": [
       "<div>\n",
       "<style scoped>\n",
       "    .dataframe tbody tr th:only-of-type {\n",
       "        vertical-align: middle;\n",
       "    }\n",
       "\n",
       "    .dataframe tbody tr th {\n",
       "        vertical-align: top;\n",
       "    }\n",
       "\n",
       "    .dataframe thead th {\n",
       "        text-align: right;\n",
       "    }\n",
       "</style>\n",
       "<table border=\"1\" class=\"dataframe\">\n",
       "  <thead>\n",
       "    <tr style=\"text-align: right;\">\n",
       "      <th></th>\n",
       "      <th>Unnamed: 0</th>\n",
       "      <th>Uber Type</th>\n",
       "      <th>Origin Region</th>\n",
       "      <th>Destination Region</th>\n",
       "      <th>Origin Latitude</th>\n",
       "      <th>Origin Longitude</th>\n",
       "      <th>Destination Latitude</th>\n",
       "      <th>Destination Longitude</th>\n",
       "      <th>Journey Distance(m)</th>\n",
       "      <th>Travel Time(s)</th>\n",
       "      <th>Fare$</th>\n",
       "    </tr>\n",
       "  </thead>\n",
       "  <tbody>\n",
       "    <tr>\n",
       "      <th>count</th>\n",
       "      <td>91.00000</td>\n",
       "      <td>91.000000</td>\n",
       "      <td>91.000000</td>\n",
       "      <td>91.000000</td>\n",
       "      <td>91.000000</td>\n",
       "      <td>91.000000</td>\n",
       "      <td>91.000000</td>\n",
       "      <td>91.000000</td>\n",
       "      <td>91.000000</td>\n",
       "      <td>91.000000</td>\n",
       "      <td>91.000000</td>\n",
       "    </tr>\n",
       "    <tr>\n",
       "      <th>mean</th>\n",
       "      <td>45.00000</td>\n",
       "      <td>0.692308</td>\n",
       "      <td>5.362637</td>\n",
       "      <td>5.098901</td>\n",
       "      <td>-37.844442</td>\n",
       "      <td>144.941148</td>\n",
       "      <td>-37.848467</td>\n",
       "      <td>144.933487</td>\n",
       "      <td>16271.373626</td>\n",
       "      <td>4282.551429</td>\n",
       "      <td>64.761374</td>\n",
       "    </tr>\n",
       "    <tr>\n",
       "      <th>std</th>\n",
       "      <td>26.41338</td>\n",
       "      <td>0.678107</td>\n",
       "      <td>2.469892</td>\n",
       "      <td>2.426955</td>\n",
       "      <td>0.091211</td>\n",
       "      <td>0.104119</td>\n",
       "      <td>0.095384</td>\n",
       "      <td>0.105782</td>\n",
       "      <td>16158.807269</td>\n",
       "      <td>3856.152427</td>\n",
       "      <td>161.058180</td>\n",
       "    </tr>\n",
       "    <tr>\n",
       "      <th>min</th>\n",
       "      <td>0.00000</td>\n",
       "      <td>0.000000</td>\n",
       "      <td>1.000000</td>\n",
       "      <td>1.000000</td>\n",
       "      <td>-38.110916</td>\n",
       "      <td>144.654173</td>\n",
       "      <td>-38.110916</td>\n",
       "      <td>144.654173</td>\n",
       "      <td>1583.000000</td>\n",
       "      <td>400.740000</td>\n",
       "      <td>2.250000</td>\n",
       "    </tr>\n",
       "    <tr>\n",
       "      <th>25%</th>\n",
       "      <td>22.50000</td>\n",
       "      <td>0.000000</td>\n",
       "      <td>3.000000</td>\n",
       "      <td>3.000000</td>\n",
       "      <td>-37.824430</td>\n",
       "      <td>144.929256</td>\n",
       "      <td>-37.843803</td>\n",
       "      <td>144.915564</td>\n",
       "      <td>6051.500000</td>\n",
       "      <td>1553.340000</td>\n",
       "      <td>11.935000</td>\n",
       "    </tr>\n",
       "    <tr>\n",
       "      <th>50%</th>\n",
       "      <td>45.00000</td>\n",
       "      <td>1.000000</td>\n",
       "      <td>6.000000</td>\n",
       "      <td>5.000000</td>\n",
       "      <td>-37.815362</td>\n",
       "      <td>144.968872</td>\n",
       "      <td>-37.814837</td>\n",
       "      <td>144.969093</td>\n",
       "      <td>9561.000000</td>\n",
       "      <td>2945.580000</td>\n",
       "      <td>20.210000</td>\n",
       "    </tr>\n",
       "    <tr>\n",
       "      <th>75%</th>\n",
       "      <td>67.50000</td>\n",
       "      <td>1.000000</td>\n",
       "      <td>8.000000</td>\n",
       "      <td>7.000000</td>\n",
       "      <td>-37.806095</td>\n",
       "      <td>144.997805</td>\n",
       "      <td>-37.806255</td>\n",
       "      <td>144.991513</td>\n",
       "      <td>13774.000000</td>\n",
       "      <td>4245.270000</td>\n",
       "      <td>31.067500</td>\n",
       "    </tr>\n",
       "    <tr>\n",
       "      <th>max</th>\n",
       "      <td>90.00000</td>\n",
       "      <td>2.000000</td>\n",
       "      <td>9.000000</td>\n",
       "      <td>9.000000</td>\n",
       "      <td>-37.773803</td>\n",
       "      <td>145.046450</td>\n",
       "      <td>-37.773803</td>\n",
       "      <td>145.046450</td>\n",
       "      <td>51061.000000</td>\n",
       "      <td>13204.980000</td>\n",
       "      <td>886.910000</td>\n",
       "    </tr>\n",
       "  </tbody>\n",
       "</table>\n",
       "</div>"
      ],
      "text/plain": [
       "       Unnamed: 0  Uber Type  Origin Region  Destination Region  \\\n",
       "count    91.00000  91.000000      91.000000           91.000000   \n",
       "mean     45.00000   0.692308       5.362637            5.098901   \n",
       "std      26.41338   0.678107       2.469892            2.426955   \n",
       "min       0.00000   0.000000       1.000000            1.000000   \n",
       "25%      22.50000   0.000000       3.000000            3.000000   \n",
       "50%      45.00000   1.000000       6.000000            5.000000   \n",
       "75%      67.50000   1.000000       8.000000            7.000000   \n",
       "max      90.00000   2.000000       9.000000            9.000000   \n",
       "\n",
       "       Origin Latitude  Origin Longitude  Destination Latitude  \\\n",
       "count        91.000000         91.000000             91.000000   \n",
       "mean        -37.844442        144.941148            -37.848467   \n",
       "std           0.091211          0.104119              0.095384   \n",
       "min         -38.110916        144.654173            -38.110916   \n",
       "25%         -37.824430        144.929256            -37.843803   \n",
       "50%         -37.815362        144.968872            -37.814837   \n",
       "75%         -37.806095        144.997805            -37.806255   \n",
       "max         -37.773803        145.046450            -37.773803   \n",
       "\n",
       "       Destination Longitude  Journey Distance(m)  Travel Time(s)       Fare$  \n",
       "count              91.000000            91.000000       91.000000   91.000000  \n",
       "mean              144.933487         16271.373626     4282.551429   64.761374  \n",
       "std                 0.105782         16158.807269     3856.152427  161.058180  \n",
       "min               144.654173          1583.000000      400.740000    2.250000  \n",
       "25%               144.915564          6051.500000     1553.340000   11.935000  \n",
       "50%               144.969093          9561.000000     2945.580000   20.210000  \n",
       "75%               144.991513         13774.000000     4245.270000   31.067500  \n",
       "max               145.046450         51061.000000    13204.980000  886.910000  "
      ]
     },
     "execution_count": 40,
     "metadata": {},
     "output_type": "execute_result"
    }
   ],
   "source": [
    "out_df = pd.read_csv(\"outliers.csv\") \n",
    "remove_index = list()\n",
    "out_df.describe()\n"
   ]
  },
  {
   "cell_type": "markdown",
   "metadata": {},
   "source": [
    "Since the fare of a drive is determined by a few factors that are not directly present in the file, we first try to calculate those measure that can helo us calculate the care and also determine the errors. The fare of a drive depends on :\n",
    "1. The journey Distance\n",
    "2. Departure Time\n",
    "3. Uber Type ( Each uber type has its own model to calculate fare)\n",
    "4. Day Type, weekend or weekday"
   ]
  },
  {
   "cell_type": "code",
   "execution_count": 41,
   "metadata": {},
   "outputs": [],
   "source": [
    "out_df[\"Arr Time\"] = 0\n",
    "out_df[\"Dep Time\"] = 0\n",
    "out_df[\"Dep Group\"] = 0\n",
    "\n",
    "dates =out_df[\"Departure Date\"].apply(lambda s:pd.Series({\"Year\":int(s.split(\"-\")[0].strip()),\"Month\":int(s.split(\"-\")[1].strip()),\"Day\":int(s.split(\"-\")[2].strip())}))\n",
    "departure_time = out_df[\"Departure Time\"].apply(lambda s:pd.Series({\"Dep Hour\":int(s.split(\":\")[0].strip()),\"Dep Min\":int(s.split(\":\")[1].strip()),\"Dep Sec\":int(s.split(\":\")[2].strip())}))\n",
    "arrival_time = out_df[\"Arrival Time\"].apply(lambda s:pd.Series({\"Arr Hour\":int(s.split(\":\")[0].strip()),\"Arr Min\":int(s.split(\":\")[1].strip()),\"Arr Sec\":int(s.split(\":\")[2].strip())}))\n",
    "out_df = pd.concat([out_df,dates,departure_time,arrival_time],axis=1)\n",
    "\n",
    "for each_row in range(0,len(out_df)):\n",
    "    arr_time = out_df.loc[each_row][\"Arr Hour\"]*3600 + out_df.loc[each_row][\"Arr Min\"]*60 + out_df.loc[each_row][\"Arr Sec\"]\n",
    "    dep_time = out_df.loc[each_row][\"Dep Hour\"]*3600 + out_df.loc[each_row][\"Dep Min\"]*60 + out_df.loc[each_row][\"Dep Sec\"]\n",
    "    \n",
    "    out_df.at[each_row,\"Arr Time\"]  = arr_time\n",
    "    out_df.at[each_row,\"Dep Time\"] = dep_time\n",
    "    if (dep_time >= (3600 *6)) & (dep_time <= 11*3600 + 59*60 + 59 ):\n",
    "        out_df.at[each_row,\"Dep Group\"] = 1\n",
    "    elif (dep_time >= (3600 *12)) & (dep_time <= 20*3600 + 59*60 + 59 ):\n",
    "        out_df.at[each_row,\"Dep Group\"] = 2\n",
    "    else:\n",
    "        out_df.at[each_row,\"Dep Group\"] = 3\n",
    "\n",
    "\n",
    "out_df[\"Day Group\"] = 1\n",
    "for index,row in out_df.iterrows():\n",
    "    journey_date = datetime.date(int(row.Year),int(row.Month),int(row.Day))\n",
    "    if journey_date.weekday() >= 5:\n",
    "        out_df.at[index,\"Day Group\"] = 2"
   ]
  },
  {
   "cell_type": "markdown",
   "metadata": {},
   "source": [
    "## Model for Fare Calculation\n",
    "Since the uber uses 3 different models to calculate the fare based on uber type we split the data in 3 different groups."
   ]
  },
  {
   "cell_type": "code",
   "execution_count": 42,
   "metadata": {},
   "outputs": [],
   "source": [
    "out_df0 = out_df.loc[out_df[\"Uber Type\"] == 0]\n",
    "out_df1 = out_df.loc[out_df[\"Uber Type\"] == 1]\n",
    "out_df2 = out_df.loc[out_df[\"Uber Type\"] == 2]"
   ]
  },
  {
   "cell_type": "markdown",
   "metadata": {},
   "source": [
    "To predict the price correctly we remove the irrelavant features to noise the variance in the models."
   ]
  },
  {
   "cell_type": "code",
   "execution_count": 43,
   "metadata": {},
   "outputs": [],
   "source": [
    "irrelavant_features = ['Unnamed: 0', 'Unnamed: 0.1', 'Uber Type', 'Origin Latitude', 'Origin Longitude','Destination Latitude', 'Destination Longitude',\n",
    "       'Departure Date', 'Departure Time', 'Arr Time', 'Dep Time', 'Year','Arrival Time',\n",
    "       'Dep Hour', 'Dep Min', 'Dep Sec', 'Arr Hour', 'Arr Min', 'Arr Sec','Travel Time(s)','Month', 'Day']\n",
    "out_df0 = out_df0.drop(irrelavant_features,axis=1)\n",
    "out_df1 = out_df1.drop(irrelavant_features,axis=1)\n",
    "out_df2 = out_df2.drop(irrelavant_features,axis=1)\n"
   ]
  },
  {
   "cell_type": "markdown",
   "metadata": {},
   "source": [
    "## Feature Selection\n",
    "\n",
    "It is always better to check for features that have some correlation with the target."
   ]
  },
  {
   "cell_type": "code",
   "execution_count": 44,
   "metadata": {},
   "outputs": [
    {
     "data": {
      "text/plain": [
       "<seaborn.axisgrid.PairGrid at 0x7fea590077f0>"
      ]
     },
     "execution_count": 44,
     "metadata": {},
     "output_type": "execute_result"
    },
    {
     "data": {
      "image/png": "[encoded data removed]",
      "text/plain": [
       "<Figure size 900x180 with 5 Axes>"
      ]
     },
     "metadata": {},
     "output_type": "display_data"
    }
   ],
   "source": [
    "sns.pairplot(out_df2,x_vars=['Origin Region', 'Destination Region', 'Journey Distance(m)', 'Dep Group', 'Day Group'], y_vars=[\"Fare$\"],kind=\"reg\")\n"
   ]
  },
  {
   "cell_type": "markdown",
   "metadata": {},
   "source": [
    "This module calculates the residuals of the predicted value and actual value. The residuals can be really helpful to find the outliers in the dataset."
   ]
  },
  {
   "cell_type": "code",
   "execution_count": 45,
   "metadata": {},
   "outputs": [],
   "source": [
    "def mod_data(df):\n",
    "    y = df[\"Fare$\"]\n",
    "    X = df[['Origin Region', 'Destination Region', 'Journey Distance(m)', 'Dep Group', 'Day Group']]\n",
    "    model = sm.OLS(y, X).fit()\n",
    "    pred = model.predict(X)\n",
    "    residuals = y-pred\n",
    "    df[\"Residuals\"] = residuals\n",
    "    df[\"Prediction\"] = pred\n",
    "    return df"
   ]
  },
  {
   "cell_type": "code",
   "execution_count": 46,
   "metadata": {},
   "outputs": [],
   "source": [
    "out_df0 = mod_data(out_df0)\n",
    "out_df1 = mod_data(out_df1)\n",
    "out_df2 = mod_data(out_df2)"
   ]
  },
  {
   "cell_type": "markdown",
   "metadata": {},
   "source": [
    "## Residuals per Uber Type"
   ]
  },
  {
   "cell_type": "markdown",
   "metadata": {},
   "source": [
    "### Uber Type 0"
   ]
  },
  {
   "cell_type": "code",
   "execution_count": 47,
   "metadata": {},
   "outputs": [
    {
     "data": {
      "text/plain": [
       "{'whiskers': [<matplotlib.lines.Line2D at 0x7fea5992dd00>,\n",
       "  <matplotlib.lines.Line2D at 0x7fea59aea0a0>],\n",
       " 'caps': [<matplotlib.lines.Line2D at 0x7fea59aea400>,\n",
       "  <matplotlib.lines.Line2D at 0x7fea59aea760>],\n",
       " 'boxes': [<matplotlib.lines.Line2D at 0x7fea5992da60>],\n",
       " 'medians': [<matplotlib.lines.Line2D at 0x7fea59aeaac0>],\n",
       " 'fliers': [<matplotlib.lines.Line2D at 0x7fea59aeadc0>],\n",
       " 'means': []}"
      ]
     },
     "execution_count": 47,
     "metadata": {},
     "output_type": "execute_result"
    },
    {
     "data": {
      "image/png": "[encoded data removed]",
      "text/plain": [
       "<Figure size 432x288 with 1 Axes>"
      ]
     },
     "metadata": {},
     "output_type": "display_data"
    }
   ],
   "source": [
    "plt.boxplot(out_df0[\"Residuals\"])"
   ]
  },
  {
   "cell_type": "code",
   "execution_count": 48,
   "metadata": {},
   "outputs": [],
   "source": [
    "remove_index= list(out_df0[out_df0[\"Residuals\"] < -6 ].index.values)"
   ]
  },
  {
   "cell_type": "markdown",
   "metadata": {},
   "source": [
    "### Uber Type 1"
   ]
  },
  {
   "cell_type": "code",
   "execution_count": 49,
   "metadata": {},
   "outputs": [
    {
     "data": {
      "text/plain": [
       "{'whiskers': [<matplotlib.lines.Line2D at 0x7fea5eaf7a90>,\n",
       "  <matplotlib.lines.Line2D at 0x7fea5eaf7df0>],\n",
       " 'caps': [<matplotlib.lines.Line2D at 0x7fea5eafb190>,\n",
       "  <matplotlib.lines.Line2D at 0x7fea5eafb4f0>],\n",
       " 'boxes': [<matplotlib.lines.Line2D at 0x7fea5eaf7730>],\n",
       " 'medians': [<matplotlib.lines.Line2D at 0x7fea5eafb850>],\n",
       " 'fliers': [<matplotlib.lines.Line2D at 0x7fea5eafbb50>],\n",
       " 'means': []}"
      ]
     },
     "execution_count": 49,
     "metadata": {},
     "output_type": "execute_result"
    },
    {
     "data": {
      "image/png": "[encoded data removed]",
      "text/plain": [
       "<Figure size 432x288 with 1 Axes>"
      ]
     },
     "metadata": {},
     "output_type": "display_data"
    }
   ],
   "source": [
    "plt.boxplot(out_df1[\"Residuals\"])"
   ]
  },
  {
   "cell_type": "code",
   "execution_count": 50,
   "metadata": {},
   "outputs": [],
   "source": [
    "remove_index = remove_index + list(out_df1[out_df1[\"Residuals\"] < -15].index.values)\n"
   ]
  },
  {
   "cell_type": "markdown",
   "metadata": {},
   "source": [
    "### Uber Type 2"
   ]
  },
  {
   "cell_type": "code",
   "execution_count": 51,
   "metadata": {},
   "outputs": [
    {
     "data": {
      "text/plain": [
       "{'whiskers': [<matplotlib.lines.Line2D at 0x7fea59a855e0>,\n",
       "  <matplotlib.lines.Line2D at 0x7fea59a85940>],\n",
       " 'caps': [<matplotlib.lines.Line2D at 0x7fea59a85ca0>,\n",
       "  <matplotlib.lines.Line2D at 0x7fea59a7b040>],\n",
       " 'boxes': [<matplotlib.lines.Line2D at 0x7fea59a85280>],\n",
       " 'medians': [<matplotlib.lines.Line2D at 0x7fea59a7b3a0>],\n",
       " 'fliers': [<matplotlib.lines.Line2D at 0x7fea59a7b6a0>],\n",
       " 'means': []}"
      ]
     },
     "execution_count": 51,
     "metadata": {},
     "output_type": "execute_result"
    },
    {
     "data": {
      "image/png": "[encoded data removed]",
      "text/plain": [
       "<Figure size 432x288 with 1 Axes>"
      ]
     },
     "metadata": {},
     "output_type": "display_data"
    }
   ],
   "source": [
    "plt.boxplot(out_df2[\"Residuals\"])"
   ]
  },
  {
   "cell_type": "code",
   "execution_count": null,
   "metadata": {},
   "outputs": [],
   "source": []
  },
  {
   "cell_type": "markdown",
   "metadata": {},
   "source": [
    "## Removing Outliers and Saving in a file"
   ]
  },
  {
   "cell_type": "code",
   "execution_count": 52,
   "metadata": {},
   "outputs": [],
   "source": [
    "out_df = out_df.drop(out_df.index[remove_index])\n"
   ]
  },
  {
   "cell_type": "code",
   "execution_count": 53,
   "metadata": {},
   "outputs": [],
   "source": [
    "drop_col = ['Arr Time', 'Dep Time', 'Dep Group', 'Year', 'Month', 'Day','Dep Hour', 'Dep Min', 'Dep Sec', 'Arr Hour', 'Arr Min', 'Arr Sec','Day Group']\n",
    "out_df = out_df.drop(drop_col,axis=1)\n",
    "out_df.to_csv(\"outliers_solution.csv\",index = False)  "
   ]
  },
  {
   "cell_type": "code",
   "execution_count": null,
   "metadata": {},
   "outputs": [],
   "source": []
  },
  {
   "cell_type": "markdown",
   "metadata": {},
   "source": [
    "# Task III ( Missing Values )"
   ]
  },
  {
   "cell_type": "code",
   "execution_count": 54,
   "metadata": {},
   "outputs": [
    {
     "data": {
      "text/html": [
       "<div>\n",
       "<style scoped>\n",
       "    .dataframe tbody tr th:only-of-type {\n",
       "        vertical-align: middle;\n",
       "    }\n",
       "\n",
       "    .dataframe tbody tr th {\n",
       "        vertical-align: top;\n",
       "    }\n",
       "\n",
       "    .dataframe thead th {\n",
       "        text-align: right;\n",
       "    }\n",
       "</style>\n",
       "<table border=\"1\" class=\"dataframe\">\n",
       "  <thead>\n",
       "    <tr style=\"text-align: right;\">\n",
       "      <th></th>\n",
       "      <th>Unnamed: 0</th>\n",
       "      <th>Uber Type</th>\n",
       "      <th>Origin Region</th>\n",
       "      <th>Destination Region</th>\n",
       "      <th>Origin Latitude</th>\n",
       "      <th>Origin Longitude</th>\n",
       "      <th>Destination Latitude</th>\n",
       "      <th>Destination Longitude</th>\n",
       "      <th>Journey Distance(m)</th>\n",
       "      <th>Departure Date</th>\n",
       "      <th>Departure Time</th>\n",
       "      <th>Travel Time(s)</th>\n",
       "      <th>Arrival Time</th>\n",
       "      <th>Fare$</th>\n",
       "    </tr>\n",
       "  </thead>\n",
       "  <tbody>\n",
       "    <tr>\n",
       "      <th>0</th>\n",
       "      <td>ID1417729091</td>\n",
       "      <td>0.0</td>\n",
       "      <td>2</td>\n",
       "      <td>4</td>\n",
       "      <td>-37.820624</td>\n",
       "      <td>144.941573</td>\n",
       "      <td>-37.800841</td>\n",
       "      <td>145.014854</td>\n",
       "      <td>7872.0</td>\n",
       "      <td>2018-01-15</td>\n",
       "      <td>22:17:23</td>\n",
       "      <td>2060.82</td>\n",
       "      <td>22:51:43</td>\n",
       "      <td>14.43</td>\n",
       "    </tr>\n",
       "    <tr>\n",
       "      <th>1</th>\n",
       "      <td>ID1349359534</td>\n",
       "      <td>NaN</td>\n",
       "      <td>8</td>\n",
       "      <td>7</td>\n",
       "      <td>-37.815834</td>\n",
       "      <td>145.046450</td>\n",
       "      <td>-37.861835</td>\n",
       "      <td>144.905716</td>\n",
       "      <td>15151.0</td>\n",
       "      <td>2018-07-28</td>\n",
       "      <td>13:32:58</td>\n",
       "      <td>4917.48</td>\n",
       "      <td>14:54:55</td>\n",
       "      <td>19.00</td>\n",
       "    </tr>\n",
       "    <tr>\n",
       "      <th>2</th>\n",
       "      <td>ID3511945378</td>\n",
       "      <td>NaN</td>\n",
       "      <td>1</td>\n",
       "      <td>4</td>\n",
       "      <td>-37.810523</td>\n",
       "      <td>144.976054</td>\n",
       "      <td>-37.816326</td>\n",
       "      <td>145.008887</td>\n",
       "      <td>3465.0</td>\n",
       "      <td>2018-01-24</td>\n",
       "      <td>15:17:22</td>\n",
       "      <td>862.98</td>\n",
       "      <td>15:31:44</td>\n",
       "      <td>14.74</td>\n",
       "    </tr>\n",
       "    <tr>\n",
       "      <th>3</th>\n",
       "      <td>ID1495524575</td>\n",
       "      <td>0.0</td>\n",
       "      <td>7</td>\n",
       "      <td>1</td>\n",
       "      <td>-37.861835</td>\n",
       "      <td>144.905716</td>\n",
       "      <td>-37.819885</td>\n",
       "      <td>144.957734</td>\n",
       "      <td>7953.0</td>\n",
       "      <td>2018-05-23</td>\n",
       "      <td>07:28:48</td>\n",
       "      <td>2775.96</td>\n",
       "      <td>8:15:03</td>\n",
       "      <td>8.82</td>\n",
       "    </tr>\n",
       "    <tr>\n",
       "      <th>4</th>\n",
       "      <td>ID3896182652</td>\n",
       "      <td>1.0</td>\n",
       "      <td>8</td>\n",
       "      <td>5</td>\n",
       "      <td>-37.815834</td>\n",
       "      <td>145.046450</td>\n",
       "      <td>-37.806770</td>\n",
       "      <td>144.932388</td>\n",
       "      <td>10380.0</td>\n",
       "      <td>2018-05-11</td>\n",
       "      <td>07:26:35</td>\n",
       "      <td>2930.82</td>\n",
       "      <td>8:15:25</td>\n",
       "      <td>17.34</td>\n",
       "    </tr>\n",
       "    <tr>\n",
       "      <th>...</th>\n",
       "      <td>...</td>\n",
       "      <td>...</td>\n",
       "      <td>...</td>\n",
       "      <td>...</td>\n",
       "      <td>...</td>\n",
       "      <td>...</td>\n",
       "      <td>...</td>\n",
       "      <td>...</td>\n",
       "      <td>...</td>\n",
       "      <td>...</td>\n",
       "      <td>...</td>\n",
       "      <td>...</td>\n",
       "      <td>...</td>\n",
       "      <td>...</td>\n",
       "    </tr>\n",
       "    <tr>\n",
       "      <th>97</th>\n",
       "      <td>ID1831741318</td>\n",
       "      <td>0.0</td>\n",
       "      <td>6</td>\n",
       "      <td>7</td>\n",
       "      <td>-37.790797</td>\n",
       "      <td>144.985865</td>\n",
       "      <td>-37.861835</td>\n",
       "      <td>144.905716</td>\n",
       "      <td>11711.0</td>\n",
       "      <td>2018-02-10</td>\n",
       "      <td>19:36:58</td>\n",
       "      <td>3866.94</td>\n",
       "      <td>20:41:24</td>\n",
       "      <td>19.01</td>\n",
       "    </tr>\n",
       "    <tr>\n",
       "      <th>98</th>\n",
       "      <td>ID1449000529</td>\n",
       "      <td>0.0</td>\n",
       "      <td>2</td>\n",
       "      <td>8</td>\n",
       "      <td>-37.824357</td>\n",
       "      <td>144.952343</td>\n",
       "      <td>-37.807202</td>\n",
       "      <td>145.026637</td>\n",
       "      <td>7943.0</td>\n",
       "      <td>2018-05-01</td>\n",
       "      <td>15:00:58</td>\n",
       "      <td>1998.60</td>\n",
       "      <td>15:34:16</td>\n",
       "      <td>9.65</td>\n",
       "    </tr>\n",
       "    <tr>\n",
       "      <th>99</th>\n",
       "      <td>ID1692595261</td>\n",
       "      <td>0.0</td>\n",
       "      <td>4</td>\n",
       "      <td>3</td>\n",
       "      <td>-37.799374</td>\n",
       "      <td>144.993186</td>\n",
       "      <td>-37.819312</td>\n",
       "      <td>145.006512</td>\n",
       "      <td>3245.0</td>\n",
       "      <td>2018-07-27</td>\n",
       "      <td>22:18:01</td>\n",
       "      <td>856.86</td>\n",
       "      <td>22:32:17</td>\n",
       "      <td>11.77</td>\n",
       "    </tr>\n",
       "    <tr>\n",
       "      <th>100</th>\n",
       "      <td>ID3820138785</td>\n",
       "      <td>1.0</td>\n",
       "      <td>1</td>\n",
       "      <td>9</td>\n",
       "      <td>-37.823181</td>\n",
       "      <td>144.960728</td>\n",
       "      <td>-38.110916</td>\n",
       "      <td>144.654173</td>\n",
       "      <td>43408.0</td>\n",
       "      <td>2018-07-07</td>\n",
       "      <td>06:45:43</td>\n",
       "      <td>10518.90</td>\n",
       "      <td>9:41:01</td>\n",
       "      <td>54.89</td>\n",
       "    </tr>\n",
       "    <tr>\n",
       "      <th>101</th>\n",
       "      <td>ID3461285711</td>\n",
       "      <td>1.0</td>\n",
       "      <td>5</td>\n",
       "      <td>3</td>\n",
       "      <td>-37.812761</td>\n",
       "      <td>144.934974</td>\n",
       "      <td>-37.811041</td>\n",
       "      <td>144.988675</td>\n",
       "      <td>5262.0</td>\n",
       "      <td>2018-07-05</td>\n",
       "      <td>04:54:49</td>\n",
       "      <td>1301.10</td>\n",
       "      <td>5:16:30</td>\n",
       "      <td>19.92</td>\n",
       "    </tr>\n",
       "  </tbody>\n",
       "</table>\n",
       "<p>102 rows × 14 columns</p>\n",
       "</div>"
      ],
      "text/plain": [
       "       Unnamed: 0  Uber Type  Origin Region  Destination Region  \\\n",
       "0    ID1417729091        0.0              2                   4   \n",
       "1    ID1349359534        NaN              8                   7   \n",
       "2    ID3511945378        NaN              1                   4   \n",
       "3    ID1495524575        0.0              7                   1   \n",
       "4    ID3896182652        1.0              8                   5   \n",
       "..            ...        ...            ...                 ...   \n",
       "97   ID1831741318        0.0              6                   7   \n",
       "98   ID1449000529        0.0              2                   8   \n",
       "99   ID1692595261        0.0              4                   3   \n",
       "100  ID3820138785        1.0              1                   9   \n",
       "101  ID3461285711        1.0              5                   3   \n",
       "\n",
       "     Origin Latitude  Origin Longitude  Destination Latitude  \\\n",
       "0         -37.820624        144.941573            -37.800841   \n",
       "1         -37.815834        145.046450            -37.861835   \n",
       "2         -37.810523        144.976054            -37.816326   \n",
       "3         -37.861835        144.905716            -37.819885   \n",
       "4         -37.815834        145.046450            -37.806770   \n",
       "..               ...               ...                   ...   \n",
       "97        -37.790797        144.985865            -37.861835   \n",
       "98        -37.824357        144.952343            -37.807202   \n",
       "99        -37.799374        144.993186            -37.819312   \n",
       "100       -37.823181        144.960728            -38.110916   \n",
       "101       -37.812761        144.934974            -37.811041   \n",
       "\n",
       "     Destination Longitude  Journey Distance(m) Departure Date Departure Time  \\\n",
       "0               145.014854               7872.0     2018-01-15       22:17:23   \n",
       "1               144.905716              15151.0     2018-07-28       13:32:58   \n",
       "2               145.008887               3465.0     2018-01-24       15:17:22   \n",
       "3               144.957734               7953.0     2018-05-23       07:28:48   \n",
       "4               144.932388              10380.0     2018-05-11       07:26:35   \n",
       "..                     ...                  ...            ...            ...   \n",
       "97              144.905716              11711.0     2018-02-10       19:36:58   \n",
       "98              145.026637               7943.0     2018-05-01       15:00:58   \n",
       "99              145.006512               3245.0     2018-07-27       22:18:01   \n",
       "100             144.654173              43408.0     2018-07-07       06:45:43   \n",
       "101             144.988675               5262.0     2018-07-05       04:54:49   \n",
       "\n",
       "     Travel Time(s) Arrival Time  Fare$  \n",
       "0           2060.82     22:51:43  14.43  \n",
       "1           4917.48     14:54:55  19.00  \n",
       "2            862.98     15:31:44  14.74  \n",
       "3           2775.96      8:15:03   8.82  \n",
       "4           2930.82      8:15:25  17.34  \n",
       "..              ...          ...    ...  \n",
       "97          3866.94     20:41:24  19.01  \n",
       "98          1998.60     15:34:16   9.65  \n",
       "99           856.86     22:32:17  11.77  \n",
       "100        10518.90      9:41:01  54.89  \n",
       "101         1301.10      5:16:30  19.92  \n",
       "\n",
       "[102 rows x 14 columns]"
      ]
     },
     "execution_count": 54,
     "metadata": {},
     "output_type": "execute_result"
    }
   ],
   "source": [
    "miss_df = pd.read_csv(\"missing_value.csv\") \n",
    "miss_df"
   ]
  },
  {
   "cell_type": "markdown",
   "metadata": {},
   "source": [
    "Since the fare of a drive is determined by a few factors that are not directly present in the file, we first try to calculate those measure that can helo us calculate the care and also determine the errors. The fare of a drive depends on :\n",
    "1. The journey Distance\n",
    "2. Departure Time\n",
    "3. Uber Type ( Each uber type has its own model to calculate fare)\n",
    "4. Day Type, weekend or weekday"
   ]
  },
  {
   "cell_type": "code",
   "execution_count": 55,
   "metadata": {},
   "outputs": [],
   "source": [
    "miss_df[\"Arr Time\"] = 0\n",
    "miss_df[\"Dep Time\"] = 0\n",
    "miss_df[\"Dep Group\"] = 0\n",
    "\n",
    "dates =miss_df[\"Departure Date\"].apply(lambda s:pd.Series({\"Year\":int(s.split(\"-\")[0].strip()),\"Month\":int(s.split(\"-\")[1].strip()),\"Day\":int(s.split(\"-\")[2].strip())}))\n",
    "departure_time = miss_df[\"Departure Time\"].apply(lambda s:pd.Series({\"Dep Hour\":int(s.split(\":\")[0].strip()),\"Dep Min\":int(s.split(\":\")[1].strip()),\"Dep Sec\":int(s.split(\":\")[2].strip())}))\n",
    "arrival_time = miss_df[\"Arrival Time\"].apply(lambda s:pd.Series({\"Arr Hour\":int(s.split(\":\")[0].strip()),\"Arr Min\":int(s.split(\":\")[1].strip()),\"Arr Sec\":int(s.split(\":\")[2].strip())}))\n",
    "miss_df = pd.concat([miss_df,dates,departure_time,arrival_time],axis=1)\n",
    "\n",
    "for each_row in range(0,len(miss_df)):\n",
    "    arr_time = miss_df.loc[each_row][\"Arr Hour\"]*3600 + miss_df.loc[each_row][\"Arr Min\"]*60 + miss_df.loc[each_row][\"Arr Sec\"]\n",
    "    dep_time = miss_df.loc[each_row][\"Dep Hour\"]*3600 + miss_df.loc[each_row][\"Dep Min\"]*60 + miss_df.loc[each_row][\"Dep Sec\"]\n",
    "    \n",
    "    miss_df.at[each_row,\"Arr Time\"]  = arr_time\n",
    "    miss_df.at[each_row,\"Dep Time\"] = dep_time\n",
    "    if (dep_time >= (3600 *6)) & (dep_time <= 11*3600 + 59*60 + 59 ):\n",
    "        miss_df.at[each_row,\"Dep Group\"] = 1\n",
    "    elif (dep_time >= (3600 *12)) & (dep_time <= 20*3600 + 59*60 + 59 ):\n",
    "        miss_df.at[each_row,\"Dep Group\"] = 2\n",
    "    else:\n",
    "        miss_df.at[each_row,\"Dep Group\"] = 3\n",
    "        \n",
    "        "
   ]
  },
  {
   "cell_type": "code",
   "execution_count": 56,
   "metadata": {},
   "outputs": [],
   "source": [
    "miss_df[\"Day Group\"] = 1\n",
    "for index,row in miss_df.iterrows():\n",
    "    journey_date = datetime.date(int(row.Year),int(row.Month),int(row.Day))\n",
    "    if journey_date.weekday() >= 5:\n",
    "        miss_df.at[index,\"Day Group\"] = 2"
   ]
  },
  {
   "cell_type": "markdown",
   "metadata": {},
   "source": [
    "As 3 different ubertypes have 3 differnt models to calculate the fare we first start by splitting the data to create the models.\n"
   ]
  },
  {
   "cell_type": "code",
   "execution_count": 57,
   "metadata": {},
   "outputs": [],
   "source": [
    "miss_df0 = miss_df.loc[miss_df[\"Uber Type\"] == 0]\n",
    "miss_df1 = miss_df.loc[miss_df[\"Uber Type\"] == 1]\n",
    "miss_df2 = miss_df.loc[miss_df[\"Uber Type\"] == 2]"
   ]
  },
  {
   "cell_type": "markdown",
   "metadata": {},
   "source": [
    "The module below is used to predict the fare of the drive based on selected features. The model after learning from the training data is used to predict the missing values."
   ]
  },
  {
   "cell_type": "code",
   "execution_count": 58,
   "metadata": {},
   "outputs": [],
   "source": [
    "def predict_fare(df):\n",
    "    train = df[df[\"Fare$\"].notna()]\n",
    "    test = df[df[\"Fare$\"].isna()]\n",
    "    train_y = train[\"Fare$\"]    \n",
    "    train_X = train[['Origin Region', 'Destination Region', 'Journey Distance(m)', 'Dep Group', 'Day Group']]\n",
    "    test_X = test[['Origin Region', 'Destination Region', 'Journey Distance(m)', 'Dep Group', 'Day Group']]\n",
    "    model = sm.OLS(train_y, train_X).fit()\n",
    "    pred = model.predict(test_X)\n",
    "    for each in list(pred.index):\n",
    "        miss_df.at[each,\"Fare$\"] = pred[each]\n",
    "    \n",
    "    \n",
    "    "
   ]
  },
  {
   "cell_type": "markdown",
   "metadata": {},
   "source": [
    "We create 3 models, one for each uber type to calculate the fare."
   ]
  },
  {
   "cell_type": "code",
   "execution_count": 59,
   "metadata": {},
   "outputs": [],
   "source": [
    "predict_fare(miss_df0)\n",
    "predict_fare(miss_df1)\n",
    "predict_fare(miss_df2)\n"
   ]
  },
  {
   "cell_type": "markdown",
   "metadata": {},
   "source": [
    "Once we have the fare for every row, we can use that information to classify each drive into uber type. Here, we have used Random forest due to its high accuracy for classification problems."
   ]
  },
  {
   "cell_type": "code",
   "execution_count": 60,
   "metadata": {},
   "outputs": [
    {
     "name": "stderr",
     "output_type": "stream",
     "text": [
      "<ipython-input-60-1a2805502a75>:10: SettingWithCopyWarning: \n",
      "A value is trying to be set on a copy of a slice from a DataFrame.\n",
      "Try using .loc[row_indexer,col_indexer] = value instead\n",
      "\n",
      "See the caveats in the documentation: https://pandas.pydata.org/pandas-docs/stable/user_guide/indexing.html#returning-a-view-versus-a-copy\n",
      "  test_x[\"prediction\"] = y_pred\n"
     ]
    }
   ],
   "source": [
    "train = miss_df[miss_df[\"Uber Type\"].notna()]\n",
    "train_y = train[\"Uber Type\"]\n",
    "train_x =  train[['Origin Region', 'Destination Region', 'Journey Distance(m)', 'Fare$','Dep Group', 'Day Group']]\n",
    "test = miss_df[miss_df[\"Uber Type\"].isna()]\n",
    "test_x = test[['Origin Region', 'Destination Region', 'Journey Distance(m)', 'Fare$','Dep Group', 'Day Group']]\n",
    "clf=RandomForestClassifier(n_estimators=100)\n",
    "#Train the model using the training sets y_pred=clf.predict(X_test)\n",
    "clf.fit(train_x,train_y)\n",
    "y_pred=clf.predict(test_x)\n",
    "test_x[\"prediction\"] = y_pred"
   ]
  },
  {
   "cell_type": "code",
   "execution_count": 61,
   "metadata": {},
   "outputs": [],
   "source": [
    "for each in test_x.index:\n",
    "    miss_df.at[each,\"Uber Type\"] = test_x.at[each,\"prediction\"]\n",
    "    "
   ]
  },
  {
   "cell_type": "markdown",
   "metadata": {},
   "source": [
    "## Saving Solution to a file "
   ]
  },
  {
   "cell_type": "code",
   "execution_count": 62,
   "metadata": {},
   "outputs": [],
   "source": [
    "#<student_no>.missing_value_solution.csv\n",
    "drop_col = ['Arr Time', 'Dep Time', 'Dep Group', 'Year', 'Month', 'Day','Dep Hour', 'Dep Min', 'Dep Sec', 'Arr Hour', 'Arr Min', 'Arr Sec','Day Group']\n",
    "miss_df = miss_df.drop(drop_col,axis=1)\n",
    "miss_df.to_csv(\"missing_value_solution.csv\",index = False)  \n",
    "\n"
   ]
  },
  {
   "cell_type": "markdown",
   "metadata": {},
   "source": [
    "## Summary\n",
    "The notebook gave a good understanding of the key concepts behind `Data Cleaning` such as dealing with\n",
    "* Syntactical Anomalies: format and values\n",
    "* Semantic Anomalies: comprehensiveness and non-redundancy\n",
    "* Coverage Anomalies: missing values\n",
    "* Not only this the assignment gave a hand on experience on data imputation using regression and classification which is similar to trend analysis. "
   ]
  },
  {
   "cell_type": "code",
   "execution_count": null,
   "metadata": {},
   "outputs": [],
   "source": []
  }
 ],
 "metadata": {
  "kernelspec": {
   "display_name": "Python 3",
   "language": "python",
   "name": "python3"
  },
  "language_info": {
   "codemirror_mode": {
    "name": "ipython",
    "version": 3
   },
   "file_extension": ".py",
   "mimetype": "text/x-python",
   "name": "python",
   "nbconvert_exporter": "python",
   "pygments_lexer": "ipython3",
   "version": "3.8.3"
  }
 },
 "nbformat": 4,
 "nbformat_minor": 2
}
